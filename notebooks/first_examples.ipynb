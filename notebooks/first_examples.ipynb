{
 "cells": [
  {
   "cell_type": "markdown",
   "metadata": {},
   "source": [
    "# Prueba de implementaciones para signatures"
   ]
  },
  {
   "cell_type": "code",
   "execution_count": 1,
   "metadata": {},
   "outputs": [],
   "source": [
    "import sys\n",
    "sys.path.append('../source')\n",
    "\n",
    "from ray_track import *"
   ]
  },
  {
   "cell_type": "code",
   "execution_count": 2,
   "metadata": {},
   "outputs": [
    {
     "data": {
      "text/plain": [
       "[['P', 'P'], ['P', 'S'], ['S', 'P'], ['S', 'S']]"
      ]
     },
     "execution_count": 2,
     "metadata": {},
     "output_type": "execute_result"
    }
   ],
   "source": [
    "media_trail = [2, 1]\n",
    "interfaces = [2, 1]\n",
    "\n",
    "myRay = Ray(media_trail, interfaces)\n",
    "mySurface = Surface(myRay)\n",
    "mySurface.get_cases()"
   ]
  },
  {
   "cell_type": "code",
   "execution_count": 3,
   "metadata": {},
   "outputs": [
    {
     "data": {
      "text/plain": [
       "[[[4, 2], 2], [[4, 2], 3], [[5, 2], 2], [[5, 2], 3]]"
      ]
     },
     "execution_count": 3,
     "metadata": {},
     "output_type": "execute_result"
    }
   ],
   "source": [
    "myTrack = Trajectory(myRay, mySurface)\n",
    "myTrack.get_signatures()"
   ]
  },
  {
   "cell_type": "code",
   "execution_count": 4,
   "metadata": {},
   "outputs": [
    {
     "name": "stdout",
     "output_type": "stream",
     "text": [
      "\n",
      "Signatures for trail [2, 1] :\n",
      "\n",
      "['P', 'P'] = [[4, 2], 2]\n",
      "['P', 'S'] = [[4, 2], 3]\n",
      "['S', 'P'] = [[5, 2], 2]\n",
      "['S', 'S'] = [[5, 2], 3]\n"
     ]
    }
   ],
   "source": [
    "myTrack.pretty_print_signatures()"
   ]
  },
  {
   "cell_type": "code",
   "execution_count": 5,
   "metadata": {},
   "outputs": [],
   "source": [
    "import numpy as np"
   ]
  },
  {
   "cell_type": "code",
   "execution_count": 6,
   "metadata": {},
   "outputs": [
    {
     "data": {
      "text/plain": [
       "array([[-1.5       , -1.5       , -1.5       ],\n",
       "       [ 0.25      ,  0.25      ,  0.25      ],\n",
       "       [10.47197551, 10.47197551, 10.47197551]])"
      ]
     },
     "execution_count": 6,
     "metadata": {},
     "output_type": "execute_result"
    }
   ],
   "source": [
    "def F(X):\n",
    "    x1, x2, x3 = X\n",
    "    f1 = 3*x1 - np.cos(x2*x3) - 0.5\n",
    "    f2 = x1**2 - 81*(x2 + 0.1)**2 + np.sin(x3) + 1.06\n",
    "    f3 = np.exp(-x1*x2) + 20*x3 + (10*np.pi - 3)/3\n",
    "    return np.array([f1, f2, f3])\n",
    "\n",
    "x0 = np.zeros((3,3))\n",
    "\n",
    "example = F(x0)\n",
    "\n",
    "m1 = example.copy()\n",
    "\n",
    "np.fill_diagonal(m1, m1.diagonal() + 0.0)\n",
    "\n",
    "m1"
   ]
  },
  {
   "cell_type": "code",
   "execution_count": 7,
   "metadata": {},
   "outputs": [
    {
     "data": {
      "text/plain": [
       "array([-1.5, -1.5, -1.5])"
      ]
     },
     "execution_count": 7,
     "metadata": {},
     "output_type": "execute_result"
    }
   ],
   "source": [
    "a, b, c = m1\n",
    "\n",
    "a"
   ]
  },
  {
   "cell_type": "code",
   "execution_count": 8,
   "metadata": {},
   "outputs": [
    {
     "data": {
      "text/plain": [
       "array([[1.001, 1.   , 1.   ],\n",
       "       [2.   , 2.001, 2.   ],\n",
       "       [3.   , 3.   , 3.001]])"
      ]
     },
     "execution_count": 8,
     "metadata": {},
     "output_type": "execute_result"
    }
   ],
   "source": [
    "v1 = np.array((1.0, 2.0, 3.0))\n",
    "\n",
    "m2 = np.repeat(v1, 3).reshape(3, 3)\n",
    "\n",
    "np.fill_diagonal(m2, m2.diagonal() + 1e-3)\n",
    "\n",
    "m2"
   ]
  },
  {
   "cell_type": "code",
   "execution_count": 9,
   "metadata": {},
   "outputs": [
    {
     "data": {
      "text/plain": [
       "array([[ 3.00000000e+00,  0.00000000e+00,  0.00000000e+00],\n",
       "       [ 1.00000001e-04, -1.62081000e+01,  9.99999998e-01],\n",
       "       [ 0.00000000e+00,  0.00000000e+00,  2.00000000e+01]])"
      ]
     },
     "execution_count": 9,
     "metadata": {},
     "output_type": "execute_result"
    }
   ],
   "source": [
    "from scipy.optimize import approx_fprime\n",
    "\n",
    "x0 = np.array((0.,0.,0.))\n",
    "\n",
    "approx_fprime( x0, F, 1e-4 )"
   ]
  },
  {
   "cell_type": "code",
   "execution_count": 10,
   "metadata": {},
   "outputs": [],
   "source": [
    "from homotopy import *"
   ]
  },
  {
   "cell_type": "code",
   "execution_count": 11,
   "metadata": {},
   "outputs": [
    {
     "data": {
      "text/plain": [
       "array([[  3. ,   0. ,   0. ],\n",
       "       [  0. , -16.2,   1. ],\n",
       "       [  0. ,   0. ,  20. ]])"
      ]
     },
     "execution_count": 11,
     "metadata": {},
     "output_type": "execute_result"
    }
   ],
   "source": [
    "get_jacobian(F, x0, h=1e-4)"
   ]
  },
  {
   "cell_type": "code",
   "execution_count": 12,
   "metadata": {},
   "outputs": [
    {
     "name": "stdout",
     "output_type": "stream",
     "text": [
      "CPU times: total: 0 ns\n",
      "Wall time: 299 µs\n"
     ]
    },
    {
     "data": {
      "text/plain": [
       "array([[ 3.00000000e+00,  0.00000000e+00,  0.00000000e+00],\n",
       "       [ 1.00000008e-05, -1.62008100e+01,  1.00000000e+00],\n",
       "       [ 0.00000000e+00,  0.00000000e+00,  2.00000000e+01]])"
      ]
     },
     "execution_count": 12,
     "metadata": {},
     "output_type": "execute_result"
    }
   ],
   "source": [
    "%time approx_fprime( x0, F, 1e-5 )"
   ]
  },
  {
   "cell_type": "code",
   "execution_count": 13,
   "metadata": {},
   "outputs": [
    {
     "name": "stdout",
     "output_type": "stream",
     "text": [
      "CPU times: total: 0 ns\n",
      "Wall time: 0 ns\n"
     ]
    },
    {
     "data": {
      "text/plain": [
       "array([[  3.        ,   0.        ,   0.        ],\n",
       "       [  0.        , -16.2       ,   0.99999983],\n",
       "       [  0.        ,   0.        ,  20.        ]])"
      ]
     },
     "execution_count": 13,
     "metadata": {},
     "output_type": "execute_result"
    }
   ],
   "source": [
    "%time get_jacobian(F, x0, h=1e-3)"
   ]
  },
  {
   "cell_type": "code",
   "execution_count": 14,
   "metadata": {},
   "outputs": [
    {
     "data": {
      "text/plain": [
       "array([ 5.00000000e-01,  5.21819214e-13, -5.23598776e-01])"
      ]
     },
     "execution_count": 14,
     "metadata": {},
     "output_type": "execute_result"
    }
   ],
   "source": [
    "# probando el proceso de homotopia\n",
    "\n",
    "# definiendo funcion\n",
    "def F(X):\n",
    "    x1, x2, x3 = X\n",
    "    f1 = 3*x1 - np.cos(x2*x3) - 0.5\n",
    "    f2 = x1**2 - 81*(x2 + 0.1)**2 + np.sin(x3) + 1.06\n",
    "    f3 = np.exp(-x1*x2) + 20*x3 + (10*np.pi - 3)/3\n",
    "    return np.array([f1, f2, f3])\n",
    "\n",
    "# definiendo X0\n",
    "X0 = np.array((0.0, 0.0, 0.0))\n",
    "\n",
    "# obteniendo solucion\n",
    "get_solution(F, X0, h=0.01)"
   ]
  },
  {
   "cell_type": "code",
   "execution_count": 15,
   "metadata": {},
   "outputs": [
    {
     "data": {
      "text/plain": [
       "array([0., 1.])"
      ]
     },
     "execution_count": 15,
     "metadata": {},
     "output_type": "execute_result"
    }
   ],
   "source": [
    "np.arange(0.0, 1+1, 1)"
   ]
  },
  {
   "cell_type": "code",
   "execution_count": 16,
   "metadata": {},
   "outputs": [
    {
     "data": {
      "text/plain": [
       "66"
      ]
     },
     "execution_count": 16,
     "metadata": {},
     "output_type": "execute_result"
    }
   ],
   "source": [
    "int(1/0.015)"
   ]
  },
  {
   "cell_type": "code",
   "execution_count": null,
   "metadata": {},
   "outputs": [],
   "source": [
    "def layers_functions(x):\n",
    "    f1 = 0\n",
    "    f2 = x * ( (x/10)**2 - 1 ) - 5\n",
    "    f3 = -10 * ( (x/10)**2 + 1 )\n",
    "    return np.array([f1, f2, f3])"
   ]
  },
  {
   "cell_type": "code",
   "execution_count": 1,
   "metadata": {},
   "outputs": [],
   "source": [
    "import sympy as sp"
   ]
  },
  {
   "cell_type": "code",
   "execution_count": 8,
   "metadata": {},
   "outputs": [
    {
     "data": {
      "text/latex": [
       "$\\displaystyle x_{15}$"
      ],
      "text/plain": [
       "x_15"
      ]
     },
     "execution_count": 8,
     "metadata": {},
     "output_type": "execute_result"
    }
   ],
   "source": [
    "k = 14\n",
    "x_0, x_1, x_2 = sp.symbols(f'x_{k-1}, x_{k}, x_{k+1}')\n",
    "\n",
    "x_2"
   ]
  },
  {
   "cell_type": "code",
   "execution_count": 1,
   "metadata": {},
   "outputs": [],
   "source": [
    "import sympy as sp"
   ]
  },
  {
   "cell_type": "code",
   "execution_count": 3,
   "metadata": {},
   "outputs": [],
   "source": [
    "def snell_law_equation(interface_list, k, F, V):\n",
    "    \"\"\"\n",
    "    args:\n",
    "        interface_list (list, array):\n",
    "        k (int):\n",
    "        F (list, array):\n",
    "        V (list, array)\n",
    "    \"\"\"\n",
    "\n",
    "    import sympy as sp\n",
    "\n",
    "    # getting ks referring to the actual point on interface\n",
    "    k1, k2, k3 = interface_list[k-1], interface_list[k], interface_list[k+1]\n",
    "\n",
    "    # getting generic previus, current and next points and functions\n",
    "    f_prev, f_curr, f_next = F[k1], F[k2], F[k3]\n",
    "    x, x_prev, x_curr, x_next = sp.symbols(f'x, x_{k-1}, x_{k}, x_{k+1}')\n",
    "\n",
    "    f_prime = f_curr.diff(x_curr, 1)\n",
    "\n",
    "    # convirtiendo funciones y derivada a lambda\n",
    "    f_prev = sp.lambdify(x, f_prev, 'numpy')\n",
    "    f_curr = sp.lambdify(x, f_curr, 'numpy')\n",
    "    f_next = sp.lambdify(x, f_next, 'numpy')\n",
    "    f_prime = sp.lambdify(x, f_prime, 'numpy')\n",
    "\n",
    "    ray_before_interface = V[k+1] * ( (x_curr - x_prev) + f_prime(x_curr)*( f_curr(x_curr) - f_prev(x_prev) ) ) /\\\n",
    "        ( ( x_curr - x_prev )**2 + ( f_curr(x_curr) - f_prev(x_prev) )**2 )**0.5\n",
    "    ray_after_interface = V[k] * ( (x_next - x_curr) + f_prime(x_curr)*( f_next(x_next) - f_curr(x_curr) ) ) /\\\n",
    "        ( ( x_next - x_curr )**2 + ( f_next(x_next) - f_curr(x_curr) )**2 )**0.5\n",
    "\n",
    "    return ray_before_interface - ray_after_interface"
   ]
  },
  {
   "cell_type": "code",
   "execution_count": 5,
   "metadata": {},
   "outputs": [
    {
     "data": {
      "text/latex": [
       "$\\displaystyle \\frac{- 5.38 x_{0} + 5.38 x_{1}}{\\left(\\left(- x_{0} + x_{1}\\right)^{2} + 25 \\left(- \\frac{x_{0} \\cdot \\left(0.01 x_{0}^{2} - 1\\right)}{5} - 0.02 x_{1}^{2} - 1\\right)^{2}\\right)^{0.5}} - \\frac{- 1.71 x_{1} + 1.71 x_{2}}{\\left(\\left(- x_{1} + x_{2}\\right)^{2} + 25 \\left(0.02 x_{1}^{2} + \\frac{x_{2} \\cdot \\left(0.01 x_{2}^{2} - 1\\right)}{5} + 1\\right)^{2}\\right)^{0.5}}$"
      ],
      "text/plain": [
       "(-5.38*x_0 + 5.38*x_1)/((-x_0 + x_1)**2 + 25*(-x_0*(0.01*x_0**2 - 1)/5 - 0.02*x_1**2 - 1)**2)**0.5 - (-1.71*x_1 + 1.71*x_2)/((-x_1 + x_2)**2 + 25*(0.02*x_1**2 + x_2*(0.01*x_2**2 - 1)/5 + 1)**2)**0.5"
      ]
     },
     "execution_count": 5,
     "metadata": {},
     "output_type": "execute_result"
    }
   ],
   "source": [
    "import sympy as sp\n",
    "\n",
    "# ejemplo para las superficies del articulo\n",
    "x = sp.symbols('x')\n",
    "functions = [ 0, x*( (x/10)**2 - 1 ) - 5, -10*( (x/10)**2 + 1 ) ]\n",
    "\n",
    "k_interfaces = [1, 2, 1, 2, 1]\n",
    "\n",
    "vels = [2.44, 1.71, 5.38, 3.42, 5.2]\n",
    "\n",
    "\n",
    "a = snell_law_equation( k_interfaces, 1, functions, vels )\n",
    "a"
   ]
  },
  {
   "cell_type": "code",
   "execution_count": 9,
   "metadata": {},
   "outputs": [
    {
     "data": {
      "text/plain": [
       "0.0"
      ]
     },
     "execution_count": 9,
     "metadata": {},
     "output_type": "execute_result"
    }
   ],
   "source": [
    "x0, x1, x2 = sp.symbols('x_0 x_1 x_2')\n",
    "\n",
    "b = sp.lambdify( (x0, x1, x2), a, 'numpy' )\n",
    "\n",
    "b( 0,0,0 )"
   ]
  },
  {
   "cell_type": "code",
   "execution_count": 11,
   "metadata": {},
   "outputs": [
    {
     "data": {
      "text/plain": [
       "0"
      ]
     },
     "execution_count": 11,
     "metadata": {},
     "output_type": "execute_result"
    }
   ],
   "source": [
    "# estableciendo funciones \n",
    "x = sp.symbols('x')\n",
    "functions = [ 0, x*( (x/10)**2 - 1 ) - 5, -10*( (x/10)**2 + 1 ) ]\n",
    "lambd_functions = [ sp.lambdify(x, fun, 'numpy') for fun in functions ]\n",
    "\n",
    "lambd_functions[0](1)"
   ]
  },
  {
   "cell_type": "code",
   "execution_count": 19,
   "metadata": {},
   "outputs": [],
   "source": [
    "import numpy as np"
   ]
  },
  {
   "cell_type": "code",
   "execution_count": 22,
   "metadata": {},
   "outputs": [
    {
     "data": {
      "text/plain": [
       "array([[1, 6, 0],\n",
       "       [4, 2, 7],\n",
       "       [0, 5, 3]])"
      ]
     },
     "execution_count": 22,
     "metadata": {},
     "output_type": "execute_result"
    }
   ],
   "source": [
    "\n",
    "ak = np.array([1, 2, 3])\n",
    "bk = np.array([4, 5])\n",
    "ck = np.array([6, 7])\n",
    "\n",
    "# Creamos las diagonales\n",
    "diag_ak = np.diag(ak)\n",
    "diag_bk = np.diag(bk, -1)\n",
    "diag_ck = np.diag(ck, 1)\n",
    "\n",
    "# Sumamos las tres matrices\n",
    "matriz = diag_ak + diag_bk + diag_ck\n",
    "matriz"
   ]
  },
  {
   "cell_type": "code",
   "execution_count": null,
   "metadata": {},
   "outputs": [],
   "source": []
  }
 ],
 "metadata": {
  "kernelspec": {
   "display_name": "sci310",
   "language": "python",
   "name": "python3"
  },
  "language_info": {
   "codemirror_mode": {
    "name": "ipython",
    "version": 3
   },
   "file_extension": ".py",
   "mimetype": "text/x-python",
   "name": "python",
   "nbconvert_exporter": "python",
   "pygments_lexer": "ipython3",
   "version": "3.10.0"
  }
 },
 "nbformat": 4,
 "nbformat_minor": 2
}
