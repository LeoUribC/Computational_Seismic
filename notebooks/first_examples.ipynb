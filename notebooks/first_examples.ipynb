{
 "cells": [
  {
   "cell_type": "markdown",
   "metadata": {},
   "source": [
    "# Prueba de implementaciones para signatures"
   ]
  },
  {
   "cell_type": "code",
   "execution_count": 1,
   "metadata": {},
   "outputs": [],
   "source": [
    "import sys\n",
    "sys.path.append('../source')\n",
    "\n",
    "from ray_track import *"
   ]
  },
  {
   "cell_type": "code",
   "execution_count": 2,
   "metadata": {},
   "outputs": [
    {
     "data": {
      "text/plain": [
       "[['P', 'P'], ['P', 'S'], ['S', 'P'], ['S', 'S']]"
      ]
     },
     "execution_count": 2,
     "metadata": {},
     "output_type": "execute_result"
    }
   ],
   "source": [
    "media_trail = [2, 1]\n",
    "interfaces = [2, 1]\n",
    "\n",
    "myRay = Ray(media_trail, interfaces)\n",
    "mySurface = Surface(myRay)\n",
    "mySurface.get_cases()"
   ]
  },
  {
   "cell_type": "code",
   "execution_count": 3,
   "metadata": {},
   "outputs": [
    {
     "data": {
      "text/plain": [
       "[[[4, 2], 2], [[4, 2], 3], [[5, 2], 2], [[5, 2], 3]]"
      ]
     },
     "execution_count": 3,
     "metadata": {},
     "output_type": "execute_result"
    }
   ],
   "source": [
    "myTrack = Trajectory(myRay, mySurface)\n",
    "myTrack.get_signatures()"
   ]
  },
  {
   "cell_type": "code",
   "execution_count": 4,
   "metadata": {},
   "outputs": [
    {
     "name": "stdout",
     "output_type": "stream",
     "text": [
      "\n",
      "Signatures for trail [2, 1] :\n",
      "\n",
      "['P', 'P'] = [[4, 2], 2]\n",
      "['P', 'S'] = [[4, 2], 3]\n",
      "['S', 'P'] = [[5, 2], 2]\n",
      "['S', 'S'] = [[5, 2], 3]\n"
     ]
    }
   ],
   "source": [
    "myTrack.pretty_print_signatures()"
   ]
  },
  {
   "cell_type": "code",
   "execution_count": 5,
   "metadata": {},
   "outputs": [],
   "source": [
    "import numpy as np"
   ]
  },
  {
   "cell_type": "code",
   "execution_count": 6,
   "metadata": {},
   "outputs": [
    {
     "data": {
      "text/plain": [
       "array([[-1.5       , -1.5       , -1.5       ],\n",
       "       [ 0.25      ,  0.25      ,  0.25      ],\n",
       "       [10.47197551, 10.47197551, 10.47197551]])"
      ]
     },
     "execution_count": 6,
     "metadata": {},
     "output_type": "execute_result"
    }
   ],
   "source": [
    "def F(X):\n",
    "    x1, x2, x3 = X\n",
    "    f1 = 3*x1 - np.cos(x2*x3) - 0.5\n",
    "    f2 = x1**2 - 81*(x2 + 0.1)**2 + np.sin(x3) + 1.06\n",
    "    f3 = np.exp(-x1*x2) + 20*x3 + (10*np.pi - 3)/3\n",
    "    return np.array([f1, f2, f3])\n",
    "\n",
    "x0 = np.zeros((3,3))\n",
    "\n",
    "example = F(x0)\n",
    "\n",
    "m1 = example.copy()\n",
    "\n",
    "np.fill_diagonal(m1, m1.diagonal() + 0.0)\n",
    "\n",
    "m1"
   ]
  },
  {
   "cell_type": "code",
   "execution_count": 7,
   "metadata": {},
   "outputs": [
    {
     "data": {
      "text/plain": [
       "array([-1.5, -1.5, -1.5])"
      ]
     },
     "execution_count": 7,
     "metadata": {},
     "output_type": "execute_result"
    }
   ],
   "source": [
    "a, b, c = m1\n",
    "\n",
    "a"
   ]
  },
  {
   "cell_type": "code",
   "execution_count": 8,
   "metadata": {},
   "outputs": [
    {
     "data": {
      "text/plain": [
       "array([[1.001, 1.   , 1.   ],\n",
       "       [2.   , 2.001, 2.   ],\n",
       "       [3.   , 3.   , 3.001]])"
      ]
     },
     "execution_count": 8,
     "metadata": {},
     "output_type": "execute_result"
    }
   ],
   "source": [
    "v1 = np.array((1.0, 2.0, 3.0))\n",
    "\n",
    "m2 = np.repeat(v1, 3).reshape(3, 3)\n",
    "\n",
    "np.fill_diagonal(m2, m2.diagonal() + 1e-3)\n",
    "\n",
    "m2"
   ]
  },
  {
   "cell_type": "code",
   "execution_count": 9,
   "metadata": {},
   "outputs": [
    {
     "data": {
      "text/plain": [
       "array([[ 3.00000000e+00,  0.00000000e+00,  0.00000000e+00],\n",
       "       [ 1.00000001e-04, -1.62081000e+01,  9.99999998e-01],\n",
       "       [ 0.00000000e+00,  0.00000000e+00,  2.00000000e+01]])"
      ]
     },
     "execution_count": 9,
     "metadata": {},
     "output_type": "execute_result"
    }
   ],
   "source": [
    "from scipy.optimize import approx_fprime\n",
    "\n",
    "x0 = np.array((0.,0.,0.))\n",
    "\n",
    "approx_fprime( x0, F, 1e-4 )"
   ]
  },
  {
   "cell_type": "code",
   "execution_count": 10,
   "metadata": {},
   "outputs": [],
   "source": [
    "from homotopy import *"
   ]
  },
  {
   "cell_type": "code",
   "execution_count": 11,
   "metadata": {},
   "outputs": [
    {
     "data": {
      "text/plain": [
       "array([[  3. ,   0. ,   0. ],\n",
       "       [  0. , -16.2,   1. ],\n",
       "       [  0. ,   0. ,  20. ]])"
      ]
     },
     "execution_count": 11,
     "metadata": {},
     "output_type": "execute_result"
    }
   ],
   "source": [
    "get_jacobian(F, x0, h=1e-4)"
   ]
  },
  {
   "cell_type": "code",
   "execution_count": 12,
   "metadata": {},
   "outputs": [
    {
     "name": "stdout",
     "output_type": "stream",
     "text": [
      "CPU times: total: 0 ns\n",
      "Wall time: 299 µs\n"
     ]
    },
    {
     "data": {
      "text/plain": [
       "array([[ 3.00000000e+00,  0.00000000e+00,  0.00000000e+00],\n",
       "       [ 1.00000008e-05, -1.62008100e+01,  1.00000000e+00],\n",
       "       [ 0.00000000e+00,  0.00000000e+00,  2.00000000e+01]])"
      ]
     },
     "execution_count": 12,
     "metadata": {},
     "output_type": "execute_result"
    }
   ],
   "source": [
    "%time approx_fprime( x0, F, 1e-5 )"
   ]
  },
  {
   "cell_type": "code",
   "execution_count": 13,
   "metadata": {},
   "outputs": [
    {
     "name": "stdout",
     "output_type": "stream",
     "text": [
      "CPU times: total: 0 ns\n",
      "Wall time: 0 ns\n"
     ]
    },
    {
     "data": {
      "text/plain": [
       "array([[  3.        ,   0.        ,   0.        ],\n",
       "       [  0.        , -16.2       ,   0.99999983],\n",
       "       [  0.        ,   0.        ,  20.        ]])"
      ]
     },
     "execution_count": 13,
     "metadata": {},
     "output_type": "execute_result"
    }
   ],
   "source": [
    "%time get_jacobian(F, x0, h=1e-3)"
   ]
  },
  {
   "cell_type": "code",
   "execution_count": 14,
   "metadata": {},
   "outputs": [
    {
     "data": {
      "text/plain": [
       "array([ 5.00000000e-01,  5.21819214e-13, -5.23598776e-01])"
      ]
     },
     "execution_count": 14,
     "metadata": {},
     "output_type": "execute_result"
    }
   ],
   "source": [
    "# probando el proceso de homotopia\n",
    "\n",
    "# definiendo funcion\n",
    "def F(X):\n",
    "    x1, x2, x3 = X\n",
    "    f1 = 3*x1 - np.cos(x2*x3) - 0.5\n",
    "    f2 = x1**2 - 81*(x2 + 0.1)**2 + np.sin(x3) + 1.06\n",
    "    f3 = np.exp(-x1*x2) + 20*x3 + (10*np.pi - 3)/3\n",
    "    return np.array([f1, f2, f3])\n",
    "\n",
    "# definiendo X0\n",
    "X0 = np.array((0.0, 0.0, 0.0))\n",
    "\n",
    "# obteniendo solucion\n",
    "get_solution(F, X0, h=0.01)"
   ]
  },
  {
   "cell_type": "code",
   "execution_count": 15,
   "metadata": {},
   "outputs": [
    {
     "data": {
      "text/plain": [
       "array([0., 1.])"
      ]
     },
     "execution_count": 15,
     "metadata": {},
     "output_type": "execute_result"
    }
   ],
   "source": [
    "np.arange(0.0, 1+1, 1)"
   ]
  },
  {
   "cell_type": "code",
   "execution_count": 16,
   "metadata": {},
   "outputs": [
    {
     "data": {
      "text/plain": [
       "66"
      ]
     },
     "execution_count": 16,
     "metadata": {},
     "output_type": "execute_result"
    }
   ],
   "source": [
    "int(1/0.015)"
   ]
  },
  {
   "cell_type": "code",
   "execution_count": null,
   "metadata": {},
   "outputs": [],
   "source": []
  }
 ],
 "metadata": {
  "kernelspec": {
   "display_name": "sci310",
   "language": "python",
   "name": "python3"
  },
  "language_info": {
   "codemirror_mode": {
    "name": "ipython",
    "version": 3
   },
   "file_extension": ".py",
   "mimetype": "text/x-python",
   "name": "python",
   "nbconvert_exporter": "python",
   "pygments_lexer": "ipython3",
   "version": "3.10.0"
  }
 },
 "nbformat": 4,
 "nbformat_minor": 2
}
