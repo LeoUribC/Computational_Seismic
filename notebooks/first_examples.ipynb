{
 "cells": [
  {
   "cell_type": "markdown",
   "metadata": {},
   "source": [
    "# Prueba de implementaciones para signatures"
   ]
  },
  {
   "cell_type": "code",
   "execution_count": 2,
   "metadata": {},
   "outputs": [],
   "source": [
    "import sys\n",
    "sys.path.append('../source')\n",
    "\n",
    "from ray_track import *"
   ]
  },
  {
   "cell_type": "code",
   "execution_count": 3,
   "metadata": {},
   "outputs": [
    {
     "data": {
      "text/plain": [
       "[['P', 'P', 'P'],\n",
       " ['P', 'P', 'S'],\n",
       " ['P', 'S', 'P'],\n",
       " ['P', 'S', 'S'],\n",
       " ['S', 'P', 'P'],\n",
       " ['S', 'P', 'S'],\n",
       " ['S', 'S', 'P'],\n",
       " ['S', 'S', 'S']]"
      ]
     },
     "execution_count": 3,
     "metadata": {},
     "output_type": "execute_result"
    }
   ],
   "source": [
    "myRay = Ray(3, [2, 2, 1])\n",
    "mySurface = Surface(myRay)\n",
    "mySurface.get_cases()"
   ]
  },
  {
   "cell_type": "code",
   "execution_count": 4,
   "metadata": {},
   "outputs": [
    {
     "data": {
      "text/plain": [
       "[[[4, 2], [4, 2], 2],\n",
       " [[4, 2], [4, 2], 3],\n",
       " [[4, 2], [5, 2], 2],\n",
       " [[4, 2], [5, 2], 3],\n",
       " [[5, 2], [4, 2], 2],\n",
       " [[5, 2], [4, 2], 3],\n",
       " [[5, 2], [5, 2], 2],\n",
       " [[5, 2], [5, 2], 3]]"
      ]
     },
     "execution_count": 4,
     "metadata": {},
     "output_type": "execute_result"
    }
   ],
   "source": [
    "myTrack = Trajectory(myRay, mySurface)\n",
    "myTrack.get_signatures()"
   ]
  },
  {
   "cell_type": "code",
   "execution_count": 5,
   "metadata": {},
   "outputs": [
    {
     "name": "stdout",
     "output_type": "stream",
     "text": [
      "\n",
      "Signatures for trail [2, 2, 1] :\n",
      "\n",
      "['P', 'P', 'P'] = [[4, 2], [4, 2], 2]\n",
      "['P', 'P', 'S'] = [[4, 2], [4, 2], 3]\n",
      "['P', 'S', 'P'] = [[4, 2], [5, 2], 2]\n",
      "['P', 'S', 'S'] = [[4, 2], [5, 2], 3]\n",
      "['S', 'P', 'P'] = [[5, 2], [4, 2], 2]\n",
      "['S', 'P', 'S'] = [[5, 2], [4, 2], 3]\n",
      "['S', 'S', 'P'] = [[5, 2], [5, 2], 2]\n",
      "['S', 'S', 'S'] = [[5, 2], [5, 2], 3]\n"
     ]
    }
   ],
   "source": [
    "myTrack.pretty_print_signatures()"
   ]
  },
  {
   "cell_type": "code",
   "execution_count": null,
   "metadata": {},
   "outputs": [],
   "source": []
  }
 ],
 "metadata": {
  "kernelspec": {
   "display_name": "sci310",
   "language": "python",
   "name": "python3"
  },
  "language_info": {
   "codemirror_mode": {
    "name": "ipython",
    "version": 3
   },
   "file_extension": ".py",
   "mimetype": "text/x-python",
   "name": "python",
   "nbconvert_exporter": "python",
   "pygments_lexer": "ipython3",
   "version": "3.10.0"
  }
 },
 "nbformat": 4,
 "nbformat_minor": 2
}
