{
 "cells": [
  {
   "cell_type": "markdown",
   "metadata": {},
   "source": [
    "![](https://admisiones.udemedellin.edu.co/wp-content/uploads/2021/01/logo-udemedellin.png)"
   ]
  },
  {
   "cell_type": "markdown",
   "metadata": {},
   "source": [
    "# **Trazado de rayos en la propagación de ondas sísmicas usando el método de homotopía y continuación**"
   ]
  },
  {
   "cell_type": "markdown",
   "metadata": {},
   "source": [
    "texto, introducción"
   ]
  },
  {
   "cell_type": "markdown",
   "metadata": {},
   "source": [
    "## **Estructura básica del algoritmo**"
   ]
  },
  {
   "cell_type": "markdown",
   "metadata": {},
   "source": [
    "estructura"
   ]
  },
  {
   "cell_type": "markdown",
   "metadata": {},
   "source": [
    "## **Estructura implementada**"
   ]
  },
  {
   "cell_type": "markdown",
   "metadata": {},
   "source": [
    "Estructura implementada"
   ]
  },
  {
   "cell_type": "markdown",
   "metadata": {},
   "source": [
    "## **Demostración con un ejemplo básico del método**"
   ]
  },
  {
   "cell_type": "markdown",
   "metadata": {},
   "source": [
    "Imagen del ejemplo que deseamos ilustrar"
   ]
  },
  {
   "cell_type": "code",
   "execution_count": 1,
   "metadata": {},
   "outputs": [],
   "source": [
    "import sys\n",
    "sys.path.append('../source')\n",
    "\n",
    "import numpy as np\n",
    "import sympy as sp\n",
    "\n",
    "from ray_surface import *\n",
    "from HomotopyConstructions import *"
   ]
  },
  {
   "cell_type": "markdown",
   "metadata": {},
   "source": [
    "Una vez importados los módulos construidos, procedemos con las construcciones iniciales:"
   ]
  },
  {
   "cell_type": "code",
   "execution_count": 2,
   "metadata": {},
   "outputs": [
    {
     "data": {
      "text/plain": [
       "[['P', 'P', 'P', 'P', 'P', 'P', 'P', 'P'],\n",
       " ['P', 'P', 'P', 'P', 'P', 'P', 'P', 'S'],\n",
       " ['P', 'P', 'P', 'P', 'P', 'P', 'S', 'P'],\n",
       " ['P', 'P', 'P', 'P', 'P', 'P', 'S', 'S'],\n",
       " ['P', 'P', 'P', 'P', 'P', 'S', 'P', 'P'],\n",
       " ['P', 'P', 'P', 'P', 'P', 'S', 'P', 'S'],\n",
       " ['P', 'P', 'P', 'P', 'P', 'S', 'S', 'P'],\n",
       " ['P', 'P', 'P', 'P', 'P', 'S', 'S', 'S'],\n",
       " ['P', 'P', 'P', 'P', 'S', 'P', 'P', 'P'],\n",
       " ['P', 'P', 'P', 'P', 'S', 'P', 'P', 'S'],\n",
       " ['P', 'P', 'P', 'P', 'S', 'P', 'S', 'P'],\n",
       " ['P', 'P', 'P', 'P', 'S', 'P', 'S', 'S'],\n",
       " ['P', 'P', 'P', 'P', 'S', 'S', 'P', 'P'],\n",
       " ['P', 'P', 'P', 'P', 'S', 'S', 'P', 'S'],\n",
       " ['P', 'P', 'P', 'P', 'S', 'S', 'S', 'P'],\n",
       " ['P', 'P', 'P', 'P', 'S', 'S', 'S', 'S'],\n",
       " ['P', 'P', 'P', 'S', 'P', 'P', 'P', 'P'],\n",
       " ['P', 'P', 'P', 'S', 'P', 'P', 'P', 'S'],\n",
       " ['P', 'P', 'P', 'S', 'P', 'P', 'S', 'P'],\n",
       " ['P', 'P', 'P', 'S', 'P', 'P', 'S', 'S'],\n",
       " ['P', 'P', 'P', 'S', 'P', 'S', 'P', 'P'],\n",
       " ['P', 'P', 'P', 'S', 'P', 'S', 'P', 'S'],\n",
       " ['P', 'P', 'P', 'S', 'P', 'S', 'S', 'P'],\n",
       " ['P', 'P', 'P', 'S', 'P', 'S', 'S', 'S'],\n",
       " ['P', 'P', 'P', 'S', 'S', 'P', 'P', 'P'],\n",
       " ['P', 'P', 'P', 'S', 'S', 'P', 'P', 'S'],\n",
       " ['P', 'P', 'P', 'S', 'S', 'P', 'S', 'P'],\n",
       " ['P', 'P', 'P', 'S', 'S', 'P', 'S', 'S'],\n",
       " ['P', 'P', 'P', 'S', 'S', 'S', 'P', 'P'],\n",
       " ['P', 'P', 'P', 'S', 'S', 'S', 'P', 'S'],\n",
       " ['P', 'P', 'P', 'S', 'S', 'S', 'S', 'P'],\n",
       " ['P', 'P', 'P', 'S', 'S', 'S', 'S', 'S'],\n",
       " ['P', 'P', 'S', 'P', 'P', 'P', 'P', 'P'],\n",
       " ['P', 'P', 'S', 'P', 'P', 'P', 'P', 'S'],\n",
       " ['P', 'P', 'S', 'P', 'P', 'P', 'S', 'P'],\n",
       " ['P', 'P', 'S', 'P', 'P', 'P', 'S', 'S'],\n",
       " ['P', 'P', 'S', 'P', 'P', 'S', 'P', 'P'],\n",
       " ['P', 'P', 'S', 'P', 'P', 'S', 'P', 'S'],\n",
       " ['P', 'P', 'S', 'P', 'P', 'S', 'S', 'P'],\n",
       " ['P', 'P', 'S', 'P', 'P', 'S', 'S', 'S'],\n",
       " ['P', 'P', 'S', 'P', 'S', 'P', 'P', 'P'],\n",
       " ['P', 'P', 'S', 'P', 'S', 'P', 'P', 'S'],\n",
       " ['P', 'P', 'S', 'P', 'S', 'P', 'S', 'P'],\n",
       " ['P', 'P', 'S', 'P', 'S', 'P', 'S', 'S'],\n",
       " ['P', 'P', 'S', 'P', 'S', 'S', 'P', 'P'],\n",
       " ['P', 'P', 'S', 'P', 'S', 'S', 'P', 'S'],\n",
       " ['P', 'P', 'S', 'P', 'S', 'S', 'S', 'P'],\n",
       " ['P', 'P', 'S', 'P', 'S', 'S', 'S', 'S'],\n",
       " ['P', 'P', 'S', 'S', 'P', 'P', 'P', 'P'],\n",
       " ['P', 'P', 'S', 'S', 'P', 'P', 'P', 'S'],\n",
       " ['P', 'P', 'S', 'S', 'P', 'P', 'S', 'P'],\n",
       " ['P', 'P', 'S', 'S', 'P', 'P', 'S', 'S'],\n",
       " ['P', 'P', 'S', 'S', 'P', 'S', 'P', 'P'],\n",
       " ['P', 'P', 'S', 'S', 'P', 'S', 'P', 'S'],\n",
       " ['P', 'P', 'S', 'S', 'P', 'S', 'S', 'P'],\n",
       " ['P', 'P', 'S', 'S', 'P', 'S', 'S', 'S'],\n",
       " ['P', 'P', 'S', 'S', 'S', 'P', 'P', 'P'],\n",
       " ['P', 'P', 'S', 'S', 'S', 'P', 'P', 'S'],\n",
       " ['P', 'P', 'S', 'S', 'S', 'P', 'S', 'P'],\n",
       " ['P', 'P', 'S', 'S', 'S', 'P', 'S', 'S'],\n",
       " ['P', 'P', 'S', 'S', 'S', 'S', 'P', 'P'],\n",
       " ['P', 'P', 'S', 'S', 'S', 'S', 'P', 'S'],\n",
       " ['P', 'P', 'S', 'S', 'S', 'S', 'S', 'P'],\n",
       " ['P', 'P', 'S', 'S', 'S', 'S', 'S', 'S'],\n",
       " ['P', 'S', 'P', 'P', 'P', 'P', 'P', 'P'],\n",
       " ['P', 'S', 'P', 'P', 'P', 'P', 'P', 'S'],\n",
       " ['P', 'S', 'P', 'P', 'P', 'P', 'S', 'P'],\n",
       " ['P', 'S', 'P', 'P', 'P', 'P', 'S', 'S'],\n",
       " ['P', 'S', 'P', 'P', 'P', 'S', 'P', 'P'],\n",
       " ['P', 'S', 'P', 'P', 'P', 'S', 'P', 'S'],\n",
       " ['P', 'S', 'P', 'P', 'P', 'S', 'S', 'P'],\n",
       " ['P', 'S', 'P', 'P', 'P', 'S', 'S', 'S'],\n",
       " ['P', 'S', 'P', 'P', 'S', 'P', 'P', 'P'],\n",
       " ['P', 'S', 'P', 'P', 'S', 'P', 'P', 'S'],\n",
       " ['P', 'S', 'P', 'P', 'S', 'P', 'S', 'P'],\n",
       " ['P', 'S', 'P', 'P', 'S', 'P', 'S', 'S'],\n",
       " ['P', 'S', 'P', 'P', 'S', 'S', 'P', 'P'],\n",
       " ['P', 'S', 'P', 'P', 'S', 'S', 'P', 'S'],\n",
       " ['P', 'S', 'P', 'P', 'S', 'S', 'S', 'P'],\n",
       " ['P', 'S', 'P', 'P', 'S', 'S', 'S', 'S'],\n",
       " ['P', 'S', 'P', 'S', 'P', 'P', 'P', 'P'],\n",
       " ['P', 'S', 'P', 'S', 'P', 'P', 'P', 'S'],\n",
       " ['P', 'S', 'P', 'S', 'P', 'P', 'S', 'P'],\n",
       " ['P', 'S', 'P', 'S', 'P', 'P', 'S', 'S'],\n",
       " ['P', 'S', 'P', 'S', 'P', 'S', 'P', 'P'],\n",
       " ['P', 'S', 'P', 'S', 'P', 'S', 'P', 'S'],\n",
       " ['P', 'S', 'P', 'S', 'P', 'S', 'S', 'P'],\n",
       " ['P', 'S', 'P', 'S', 'P', 'S', 'S', 'S'],\n",
       " ['P', 'S', 'P', 'S', 'S', 'P', 'P', 'P'],\n",
       " ['P', 'S', 'P', 'S', 'S', 'P', 'P', 'S'],\n",
       " ['P', 'S', 'P', 'S', 'S', 'P', 'S', 'P'],\n",
       " ['P', 'S', 'P', 'S', 'S', 'P', 'S', 'S'],\n",
       " ['P', 'S', 'P', 'S', 'S', 'S', 'P', 'P'],\n",
       " ['P', 'S', 'P', 'S', 'S', 'S', 'P', 'S'],\n",
       " ['P', 'S', 'P', 'S', 'S', 'S', 'S', 'P'],\n",
       " ['P', 'S', 'P', 'S', 'S', 'S', 'S', 'S'],\n",
       " ['P', 'S', 'S', 'P', 'P', 'P', 'P', 'P'],\n",
       " ['P', 'S', 'S', 'P', 'P', 'P', 'P', 'S'],\n",
       " ['P', 'S', 'S', 'P', 'P', 'P', 'S', 'P'],\n",
       " ['P', 'S', 'S', 'P', 'P', 'P', 'S', 'S'],\n",
       " ['P', 'S', 'S', 'P', 'P', 'S', 'P', 'P'],\n",
       " ['P', 'S', 'S', 'P', 'P', 'S', 'P', 'S'],\n",
       " ['P', 'S', 'S', 'P', 'P', 'S', 'S', 'P'],\n",
       " ['P', 'S', 'S', 'P', 'P', 'S', 'S', 'S'],\n",
       " ['P', 'S', 'S', 'P', 'S', 'P', 'P', 'P'],\n",
       " ['P', 'S', 'S', 'P', 'S', 'P', 'P', 'S'],\n",
       " ['P', 'S', 'S', 'P', 'S', 'P', 'S', 'P'],\n",
       " ['P', 'S', 'S', 'P', 'S', 'P', 'S', 'S'],\n",
       " ['P', 'S', 'S', 'P', 'S', 'S', 'P', 'P'],\n",
       " ['P', 'S', 'S', 'P', 'S', 'S', 'P', 'S'],\n",
       " ['P', 'S', 'S', 'P', 'S', 'S', 'S', 'P'],\n",
       " ['P', 'S', 'S', 'P', 'S', 'S', 'S', 'S'],\n",
       " ['P', 'S', 'S', 'S', 'P', 'P', 'P', 'P'],\n",
       " ['P', 'S', 'S', 'S', 'P', 'P', 'P', 'S'],\n",
       " ['P', 'S', 'S', 'S', 'P', 'P', 'S', 'P'],\n",
       " ['P', 'S', 'S', 'S', 'P', 'P', 'S', 'S'],\n",
       " ['P', 'S', 'S', 'S', 'P', 'S', 'P', 'P'],\n",
       " ['P', 'S', 'S', 'S', 'P', 'S', 'P', 'S'],\n",
       " ['P', 'S', 'S', 'S', 'P', 'S', 'S', 'P'],\n",
       " ['P', 'S', 'S', 'S', 'P', 'S', 'S', 'S'],\n",
       " ['P', 'S', 'S', 'S', 'S', 'P', 'P', 'P'],\n",
       " ['P', 'S', 'S', 'S', 'S', 'P', 'P', 'S'],\n",
       " ['P', 'S', 'S', 'S', 'S', 'P', 'S', 'P'],\n",
       " ['P', 'S', 'S', 'S', 'S', 'P', 'S', 'S'],\n",
       " ['P', 'S', 'S', 'S', 'S', 'S', 'P', 'P'],\n",
       " ['P', 'S', 'S', 'S', 'S', 'S', 'P', 'S'],\n",
       " ['P', 'S', 'S', 'S', 'S', 'S', 'S', 'P'],\n",
       " ['P', 'S', 'S', 'S', 'S', 'S', 'S', 'S'],\n",
       " ['S', 'P', 'P', 'P', 'P', 'P', 'P', 'P'],\n",
       " ['S', 'P', 'P', 'P', 'P', 'P', 'P', 'S'],\n",
       " ['S', 'P', 'P', 'P', 'P', 'P', 'S', 'P'],\n",
       " ['S', 'P', 'P', 'P', 'P', 'P', 'S', 'S'],\n",
       " ['S', 'P', 'P', 'P', 'P', 'S', 'P', 'P'],\n",
       " ['S', 'P', 'P', 'P', 'P', 'S', 'P', 'S'],\n",
       " ['S', 'P', 'P', 'P', 'P', 'S', 'S', 'P'],\n",
       " ['S', 'P', 'P', 'P', 'P', 'S', 'S', 'S'],\n",
       " ['S', 'P', 'P', 'P', 'S', 'P', 'P', 'P'],\n",
       " ['S', 'P', 'P', 'P', 'S', 'P', 'P', 'S'],\n",
       " ['S', 'P', 'P', 'P', 'S', 'P', 'S', 'P'],\n",
       " ['S', 'P', 'P', 'P', 'S', 'P', 'S', 'S'],\n",
       " ['S', 'P', 'P', 'P', 'S', 'S', 'P', 'P'],\n",
       " ['S', 'P', 'P', 'P', 'S', 'S', 'P', 'S'],\n",
       " ['S', 'P', 'P', 'P', 'S', 'S', 'S', 'P'],\n",
       " ['S', 'P', 'P', 'P', 'S', 'S', 'S', 'S'],\n",
       " ['S', 'P', 'P', 'S', 'P', 'P', 'P', 'P'],\n",
       " ['S', 'P', 'P', 'S', 'P', 'P', 'P', 'S'],\n",
       " ['S', 'P', 'P', 'S', 'P', 'P', 'S', 'P'],\n",
       " ['S', 'P', 'P', 'S', 'P', 'P', 'S', 'S'],\n",
       " ['S', 'P', 'P', 'S', 'P', 'S', 'P', 'P'],\n",
       " ['S', 'P', 'P', 'S', 'P', 'S', 'P', 'S'],\n",
       " ['S', 'P', 'P', 'S', 'P', 'S', 'S', 'P'],\n",
       " ['S', 'P', 'P', 'S', 'P', 'S', 'S', 'S'],\n",
       " ['S', 'P', 'P', 'S', 'S', 'P', 'P', 'P'],\n",
       " ['S', 'P', 'P', 'S', 'S', 'P', 'P', 'S'],\n",
       " ['S', 'P', 'P', 'S', 'S', 'P', 'S', 'P'],\n",
       " ['S', 'P', 'P', 'S', 'S', 'P', 'S', 'S'],\n",
       " ['S', 'P', 'P', 'S', 'S', 'S', 'P', 'P'],\n",
       " ['S', 'P', 'P', 'S', 'S', 'S', 'P', 'S'],\n",
       " ['S', 'P', 'P', 'S', 'S', 'S', 'S', 'P'],\n",
       " ['S', 'P', 'P', 'S', 'S', 'S', 'S', 'S'],\n",
       " ['S', 'P', 'S', 'P', 'P', 'P', 'P', 'P'],\n",
       " ['S', 'P', 'S', 'P', 'P', 'P', 'P', 'S'],\n",
       " ['S', 'P', 'S', 'P', 'P', 'P', 'S', 'P'],\n",
       " ['S', 'P', 'S', 'P', 'P', 'P', 'S', 'S'],\n",
       " ['S', 'P', 'S', 'P', 'P', 'S', 'P', 'P'],\n",
       " ['S', 'P', 'S', 'P', 'P', 'S', 'P', 'S'],\n",
       " ['S', 'P', 'S', 'P', 'P', 'S', 'S', 'P'],\n",
       " ['S', 'P', 'S', 'P', 'P', 'S', 'S', 'S'],\n",
       " ['S', 'P', 'S', 'P', 'S', 'P', 'P', 'P'],\n",
       " ['S', 'P', 'S', 'P', 'S', 'P', 'P', 'S'],\n",
       " ['S', 'P', 'S', 'P', 'S', 'P', 'S', 'P'],\n",
       " ['S', 'P', 'S', 'P', 'S', 'P', 'S', 'S'],\n",
       " ['S', 'P', 'S', 'P', 'S', 'S', 'P', 'P'],\n",
       " ['S', 'P', 'S', 'P', 'S', 'S', 'P', 'S'],\n",
       " ['S', 'P', 'S', 'P', 'S', 'S', 'S', 'P'],\n",
       " ['S', 'P', 'S', 'P', 'S', 'S', 'S', 'S'],\n",
       " ['S', 'P', 'S', 'S', 'P', 'P', 'P', 'P'],\n",
       " ['S', 'P', 'S', 'S', 'P', 'P', 'P', 'S'],\n",
       " ['S', 'P', 'S', 'S', 'P', 'P', 'S', 'P'],\n",
       " ['S', 'P', 'S', 'S', 'P', 'P', 'S', 'S'],\n",
       " ['S', 'P', 'S', 'S', 'P', 'S', 'P', 'P'],\n",
       " ['S', 'P', 'S', 'S', 'P', 'S', 'P', 'S'],\n",
       " ['S', 'P', 'S', 'S', 'P', 'S', 'S', 'P'],\n",
       " ['S', 'P', 'S', 'S', 'P', 'S', 'S', 'S'],\n",
       " ['S', 'P', 'S', 'S', 'S', 'P', 'P', 'P'],\n",
       " ['S', 'P', 'S', 'S', 'S', 'P', 'P', 'S'],\n",
       " ['S', 'P', 'S', 'S', 'S', 'P', 'S', 'P'],\n",
       " ['S', 'P', 'S', 'S', 'S', 'P', 'S', 'S'],\n",
       " ['S', 'P', 'S', 'S', 'S', 'S', 'P', 'P'],\n",
       " ['S', 'P', 'S', 'S', 'S', 'S', 'P', 'S'],\n",
       " ['S', 'P', 'S', 'S', 'S', 'S', 'S', 'P'],\n",
       " ['S', 'P', 'S', 'S', 'S', 'S', 'S', 'S'],\n",
       " ['S', 'S', 'P', 'P', 'P', 'P', 'P', 'P'],\n",
       " ['S', 'S', 'P', 'P', 'P', 'P', 'P', 'S'],\n",
       " ['S', 'S', 'P', 'P', 'P', 'P', 'S', 'P'],\n",
       " ['S', 'S', 'P', 'P', 'P', 'P', 'S', 'S'],\n",
       " ['S', 'S', 'P', 'P', 'P', 'S', 'P', 'P'],\n",
       " ['S', 'S', 'P', 'P', 'P', 'S', 'P', 'S'],\n",
       " ['S', 'S', 'P', 'P', 'P', 'S', 'S', 'P'],\n",
       " ['S', 'S', 'P', 'P', 'P', 'S', 'S', 'S'],\n",
       " ['S', 'S', 'P', 'P', 'S', 'P', 'P', 'P'],\n",
       " ['S', 'S', 'P', 'P', 'S', 'P', 'P', 'S'],\n",
       " ['S', 'S', 'P', 'P', 'S', 'P', 'S', 'P'],\n",
       " ['S', 'S', 'P', 'P', 'S', 'P', 'S', 'S'],\n",
       " ['S', 'S', 'P', 'P', 'S', 'S', 'P', 'P'],\n",
       " ['S', 'S', 'P', 'P', 'S', 'S', 'P', 'S'],\n",
       " ['S', 'S', 'P', 'P', 'S', 'S', 'S', 'P'],\n",
       " ['S', 'S', 'P', 'P', 'S', 'S', 'S', 'S'],\n",
       " ['S', 'S', 'P', 'S', 'P', 'P', 'P', 'P'],\n",
       " ['S', 'S', 'P', 'S', 'P', 'P', 'P', 'S'],\n",
       " ['S', 'S', 'P', 'S', 'P', 'P', 'S', 'P'],\n",
       " ['S', 'S', 'P', 'S', 'P', 'P', 'S', 'S'],\n",
       " ['S', 'S', 'P', 'S', 'P', 'S', 'P', 'P'],\n",
       " ['S', 'S', 'P', 'S', 'P', 'S', 'P', 'S'],\n",
       " ['S', 'S', 'P', 'S', 'P', 'S', 'S', 'P'],\n",
       " ['S', 'S', 'P', 'S', 'P', 'S', 'S', 'S'],\n",
       " ['S', 'S', 'P', 'S', 'S', 'P', 'P', 'P'],\n",
       " ['S', 'S', 'P', 'S', 'S', 'P', 'P', 'S'],\n",
       " ['S', 'S', 'P', 'S', 'S', 'P', 'S', 'P'],\n",
       " ['S', 'S', 'P', 'S', 'S', 'P', 'S', 'S'],\n",
       " ['S', 'S', 'P', 'S', 'S', 'S', 'P', 'P'],\n",
       " ['S', 'S', 'P', 'S', 'S', 'S', 'P', 'S'],\n",
       " ['S', 'S', 'P', 'S', 'S', 'S', 'S', 'P'],\n",
       " ['S', 'S', 'P', 'S', 'S', 'S', 'S', 'S'],\n",
       " ['S', 'S', 'S', 'P', 'P', 'P', 'P', 'P'],\n",
       " ['S', 'S', 'S', 'P', 'P', 'P', 'P', 'S'],\n",
       " ['S', 'S', 'S', 'P', 'P', 'P', 'S', 'P'],\n",
       " ['S', 'S', 'S', 'P', 'P', 'P', 'S', 'S'],\n",
       " ['S', 'S', 'S', 'P', 'P', 'S', 'P', 'P'],\n",
       " ['S', 'S', 'S', 'P', 'P', 'S', 'P', 'S'],\n",
       " ['S', 'S', 'S', 'P', 'P', 'S', 'S', 'P'],\n",
       " ['S', 'S', 'S', 'P', 'P', 'S', 'S', 'S'],\n",
       " ['S', 'S', 'S', 'P', 'S', 'P', 'P', 'P'],\n",
       " ['S', 'S', 'S', 'P', 'S', 'P', 'P', 'S'],\n",
       " ['S', 'S', 'S', 'P', 'S', 'P', 'S', 'P'],\n",
       " ['S', 'S', 'S', 'P', 'S', 'P', 'S', 'S'],\n",
       " ['S', 'S', 'S', 'P', 'S', 'S', 'P', 'P'],\n",
       " ['S', 'S', 'S', 'P', 'S', 'S', 'P', 'S'],\n",
       " ['S', 'S', 'S', 'P', 'S', 'S', 'S', 'P'],\n",
       " ['S', 'S', 'S', 'P', 'S', 'S', 'S', 'S'],\n",
       " ['S', 'S', 'S', 'S', 'P', 'P', 'P', 'P'],\n",
       " ['S', 'S', 'S', 'S', 'P', 'P', 'P', 'S'],\n",
       " ['S', 'S', 'S', 'S', 'P', 'P', 'S', 'P'],\n",
       " ['S', 'S', 'S', 'S', 'P', 'P', 'S', 'S'],\n",
       " ['S', 'S', 'S', 'S', 'P', 'S', 'P', 'P'],\n",
       " ['S', 'S', 'S', 'S', 'P', 'S', 'P', 'S'],\n",
       " ['S', 'S', 'S', 'S', 'P', 'S', 'S', 'P'],\n",
       " ['S', 'S', 'S', 'S', 'P', 'S', 'S', 'S'],\n",
       " ['S', 'S', 'S', 'S', 'S', 'P', 'P', 'P'],\n",
       " ['S', 'S', 'S', 'S', 'S', 'P', 'P', 'S'],\n",
       " ['S', 'S', 'S', 'S', 'S', 'P', 'S', 'P'],\n",
       " ['S', 'S', 'S', 'S', 'S', 'P', 'S', 'S'],\n",
       " ['S', 'S', 'S', 'S', 'S', 'S', 'P', 'P'],\n",
       " ['S', 'S', 'S', 'S', 'S', 'S', 'P', 'S'],\n",
       " ['S', 'S', 'S', 'S', 'S', 'S', 'S', 'P'],\n",
       " ['S', 'S', 'S', 'S', 'S', 'S', 'S', 'S']]"
      ]
     },
     "execution_count": 2,
     "metadata": {},
     "output_type": "execute_result"
    }
   ],
   "source": [
    "# definiendo medios, interfaces de interaccion y velocidades en medios\n",
    "media_trail = [1, 2, 3, 4, 4, 3, 2, 1]\n",
    "interfaces = [0, 1, 2, 3, 4, 3, 2, 1, 0]\n",
    "medium_velocities = { 'P':[2.44, 5.38, 7.50, 9.8],\n",
    "                      'S':[1.71, 3.44, 5.6, 8.2] }\n",
    "\n",
    "# necesario para calculos de derivadas analiticas\n",
    "x = sp.symbols('x')\n",
    "#interface_functions = [ 0*x, x*( (x/10)**2 - 1 ) - 5, -10*( (x/10)**2 + 1 ) ]\n",
    "\n",
    "# formas de interfaces definidas, rectas paralelas\n",
    "interface_functions = [ 0*x, 1.0 + 0*x, 2 + 0*x, 7 + 0*x, 9 + 0*x ]\n",
    "\n",
    "# construyendo objetos Ray y Surface\n",
    "myRay = Ray(media_trail, interfaces)\n",
    "mySurface = Surface(interface_functions, myRay, medium_velocities)\n",
    "\n",
    "# combinaciones de casos posibles para medios compresivo (Compressive, P-waves) y cizalla (Shear Waves)\n",
    "mySurface.get_cases()"
   ]
  },
  {
   "cell_type": "code",
   "execution_count": 3,
   "metadata": {},
   "outputs": [
    {
     "data": {
      "text/plain": [
       "array([2. , 2.5, 3. , 3.5, 4. , 4.5, 5. , 5.5, 6. ])"
      ]
     },
     "execution_count": 3,
     "metadata": {},
     "output_type": "execute_result"
    }
   ],
   "source": [
    "# source and receiver locations on surface\n",
    "xs, xr = 2, 6\n",
    "all_points = 9  # internal points plus source and receiver\n",
    "\n",
    "# first arbitrary ray construction\n",
    "x_test = xs + np.arange(all_points) * ( xr - xs ) / ( all_points-1 )\n",
    "\n",
    "# system construction with built arbitrary first ray\n",
    "mySystem = SystemBuilder(x_test, mySurface)\n",
    "\n",
    "# known and interest cases for continuation\n",
    "interest_cases = [['P', 'P', 'P', 'P', 'P', 'P', 'P', 'P'],\n",
    "                  ['S', 'S', 'S', 'S', 'S', 'S', 'S', 'S']]\n",
    "x_test"
   ]
  },
  {
   "cell_type": "code",
   "execution_count": 4,
   "metadata": {},
   "outputs": [
    {
     "data": {
      "text/plain": [
       "array([2.        , 2.06695571, 2.20257972, 3.32363996, 4.        ,\n",
       "       4.67636004, 5.79742028, 5.93304429, 6.        ])"
      ]
     },
     "execution_count": 4,
     "metadata": {},
     "output_type": "execute_result"
    }
   ],
   "source": [
    "# determinando solución para un \n",
    "sol = mySystem.newton_solve(interest_cases, tol=1e-3)\n",
    "sol"
   ]
  },
  {
   "cell_type": "code",
   "execution_count": 5,
   "metadata": {},
   "outputs": [
    {
     "data": {
      "image/png": "[encoded data removed]",
      "text/plain": [
       "<Figure size 1500x600 with 2 Axes>"
      ]
     },
     "metadata": {},
     "output_type": "display_data"
    }
   ],
   "source": [
    "import matplotlib.pyplot as plt\n",
    "\n",
    "\n",
    "# arbitrary ray\n",
    "x_test = xs + np.arange(all_points) * ( xr - xs ) / ( all_points-1 )\n",
    "\n",
    "# declaring depths\n",
    "y = np.array([0, 1, 2, 7, 9, 7, 2, 1, 0])\n",
    "\n",
    "# building figure\n",
    "fig = plt.figure(figsize=(15,6))\n",
    "\n",
    "for surf in y:\n",
    "    plt.subplot(121)\n",
    "    plt.axhline(y=-surf, color='k', linestyle='--', alpha=0.2)\n",
    "    plt.subplot(122)\n",
    "    plt.axhline(y=-surf, color='k', linestyle='--', alpha=0.2)\n",
    "\n",
    "# first given ray\n",
    "plt.subplot(121)\n",
    "plt.title('first ray, arbitrary')\n",
    "plt.xlabel('horizontal positions (km)'); plt.ylabel('depth (km)')\n",
    "plt.plot(x_test, -y, marker='^')\n",
    "\n",
    "# found approximated ray trace\n",
    "plt.subplot(122)\n",
    "plt.title('found ray trace')\n",
    "plt.xlabel('horizontal positions (km)'); plt.ylabel('depth (km)')\n",
    "plt.plot(sol, -y, marker='o')\n",
    "\n",
    "plt.show()"
   ]
  }
 ],
 "metadata": {
  "kernelspec": {
   "display_name": "sci310",
   "language": "python",
   "name": "python3"
  },
  "language_info": {
   "codemirror_mode": {
    "name": "ipython",
    "version": 3
   },
   "file_extension": ".py",
   "mimetype": "text/x-python",
   "name": "python",
   "nbconvert_exporter": "python",
   "pygments_lexer": "ipython3",
   "version": "3.10.9"
  }
 },
 "nbformat": 4,
 "nbformat_minor": 2
}
