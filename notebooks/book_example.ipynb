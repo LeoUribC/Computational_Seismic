{
 "cells": [
  {
   "cell_type": "code",
   "execution_count": 1,
   "metadata": {},
   "outputs": [],
   "source": [
    "import sys\n",
    "sys.path.append('../source')\n",
    "\n",
    "import numpy as np\n",
    "\n",
    "from ray_surface import *\n",
    "from HomotopyConstructions import *"
   ]
  },
  {
   "cell_type": "code",
   "execution_count": 2,
   "metadata": {},
   "outputs": [
    {
     "data": {
      "text/plain": [
       "[['P', 'P', 'P', 'P'],\n",
       " ['P', 'P', 'P', 'S'],\n",
       " ['P', 'P', 'S', 'P'],\n",
       " ['P', 'P', 'S', 'S'],\n",
       " ['P', 'S', 'P', 'P'],\n",
       " ['P', 'S', 'P', 'S'],\n",
       " ['P', 'S', 'S', 'P'],\n",
       " ['P', 'S', 'S', 'S'],\n",
       " ['S', 'P', 'P', 'P'],\n",
       " ['S', 'P', 'P', 'S'],\n",
       " ['S', 'P', 'S', 'P'],\n",
       " ['S', 'P', 'S', 'S'],\n",
       " ['S', 'S', 'P', 'P'],\n",
       " ['S', 'S', 'P', 'S'],\n",
       " ['S', 'S', 'S', 'P'],\n",
       " ['S', 'S', 'S', 'S']]"
      ]
     },
     "execution_count": 2,
     "metadata": {},
     "output_type": "execute_result"
    }
   ],
   "source": [
    "import sympy as sp\n",
    "\n",
    "media_trail = [1, 1, 1, 1]\n",
    "interfaces = [0, 1, 0, 1, 0]\n",
    "medium_velocities = { 'P':[2.44, 5.38], 'S':[1.71, 3.44] }\n",
    "\n",
    "x = sp.symbols('x')\n",
    "interface_functions = [ 0*x, x*( (x/10)**2 - 1 ) - 5, -10*( (x/10)**2 + 1 ) ]\n",
    "\n",
    "myRay = Ray(media_trail, interfaces)\n",
    "mySurface = Surface(interface_functions, myRay, medium_velocities)\n",
    "\n",
    "mySurface.get_cases()"
   ]
  },
  {
   "cell_type": "code",
   "execution_count": 5,
   "metadata": {},
   "outputs": [
    {
     "data": {
      "text/plain": [
       "array([-2. , -0.5,  1. ,  2.5,  4. ])"
      ]
     },
     "execution_count": 5,
     "metadata": {},
     "output_type": "execute_result"
    }
   ],
   "source": [
    "xs, xr = -2, 4\n",
    "all_points = 5\n",
    "\n",
    "x_test = xs + np.arange(all_points) * ( xr - xs ) / ( all_points-1 )\n",
    "\n",
    "\n",
    "mySystem = SystemBuilder(x_test, mySurface)\n",
    "\n",
    "interest_cases = [['P', 'P', 'P', 'P'],\n",
    "                  ['S', 'S', 'P', 'S']]\n",
    "\n",
    "x_test"
   ]
  },
  {
   "cell_type": "code",
   "execution_count": 4,
   "metadata": {},
   "outputs": [
    {
     "data": {
      "text/plain": [
       "array([-2.00000000e+00, -1.24909856e+02,  1.18930522e+05,  8.45256152e+00,\n",
       "        4.00000000e+00])"
      ]
     },
     "execution_count": 4,
     "metadata": {},
     "output_type": "execute_result"
    }
   ],
   "source": [
    "mySystem.newton_solve(interest_cases)"
   ]
  }
 ],
 "metadata": {
  "kernelspec": {
   "display_name": "sci310",
   "language": "python",
   "name": "python3"
  },
  "language_info": {
   "codemirror_mode": {
    "name": "ipython",
    "version": 3
   },
   "file_extension": ".py",
   "mimetype": "text/x-python",
   "name": "python",
   "nbconvert_exporter": "python",
   "pygments_lexer": "ipython3",
   "version": "3.10.9"
  }
 },
 "nbformat": 4,
 "nbformat_minor": 2
}
