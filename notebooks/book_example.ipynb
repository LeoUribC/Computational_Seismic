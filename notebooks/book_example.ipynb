{
 "cells": [
  {
   "cell_type": "markdown",
   "metadata": {},
   "source": [
    "![](https://admisiones.udemedellin.edu.co/wp-content/uploads/2021/01/logo-udemedellin.png)\n",
    "\n",
    "---"
   ]
  },
  {
   "cell_type": "markdown",
   "metadata": {},
   "source": [
    "# **Ray Tracing in the propagation of seismic waves using homotopy and continuation method**"
   ]
  },
  {
   "cell_type": "code",
   "execution_count": 14,
   "metadata": {},
   "outputs": [],
   "source": [
    "import sys\n",
    "sys.path.append('../source')\n",
    "\n",
    "import numpy as np\n",
    "\n",
    "from ray_surface import *\n",
    "from HomotopyConstructions import *"
   ]
  },
  {
   "cell_type": "code",
   "execution_count": 15,
   "metadata": {},
   "outputs": [
    {
     "data": {
      "text/plain": [
       "[['P', 'P', 'P', 'P', 'P', 'P', 'P', 'P'],\n",
       " ['P', 'P', 'P', 'P', 'P', 'P', 'P', 'S'],\n",
       " ['P', 'P', 'P', 'P', 'P', 'P', 'S', 'P'],\n",
       " ['P', 'P', 'P', 'P', 'P', 'P', 'S', 'S'],\n",
       " ['P', 'P', 'P', 'P', 'P', 'S', 'P', 'P'],\n",
       " ['P', 'P', 'P', 'P', 'P', 'S', 'P', 'S'],\n",
       " ['P', 'P', 'P', 'P', 'P', 'S', 'S', 'P'],\n",
       " ['P', 'P', 'P', 'P', 'P', 'S', 'S', 'S'],\n",
       " ['P', 'P', 'P', 'P', 'S', 'P', 'P', 'P'],\n",
       " ['P', 'P', 'P', 'P', 'S', 'P', 'P', 'S'],\n",
       " ['P', 'P', 'P', 'P', 'S', 'P', 'S', 'P'],\n",
       " ['P', 'P', 'P', 'P', 'S', 'P', 'S', 'S'],\n",
       " ['P', 'P', 'P', 'P', 'S', 'S', 'P', 'P'],\n",
       " ['P', 'P', 'P', 'P', 'S', 'S', 'P', 'S'],\n",
       " ['P', 'P', 'P', 'P', 'S', 'S', 'S', 'P'],\n",
       " ['P', 'P', 'P', 'P', 'S', 'S', 'S', 'S'],\n",
       " ['P', 'P', 'P', 'S', 'P', 'P', 'P', 'P'],\n",
       " ['P', 'P', 'P', 'S', 'P', 'P', 'P', 'S'],\n",
       " ['P', 'P', 'P', 'S', 'P', 'P', 'S', 'P'],\n",
       " ['P', 'P', 'P', 'S', 'P', 'P', 'S', 'S'],\n",
       " ['P', 'P', 'P', 'S', 'P', 'S', 'P', 'P'],\n",
       " ['P', 'P', 'P', 'S', 'P', 'S', 'P', 'S'],\n",
       " ['P', 'P', 'P', 'S', 'P', 'S', 'S', 'P'],\n",
       " ['P', 'P', 'P', 'S', 'P', 'S', 'S', 'S'],\n",
       " ['P', 'P', 'P', 'S', 'S', 'P', 'P', 'P'],\n",
       " ['P', 'P', 'P', 'S', 'S', 'P', 'P', 'S'],\n",
       " ['P', 'P', 'P', 'S', 'S', 'P', 'S', 'P'],\n",
       " ['P', 'P', 'P', 'S', 'S', 'P', 'S', 'S'],\n",
       " ['P', 'P', 'P', 'S', 'S', 'S', 'P', 'P'],\n",
       " ['P', 'P', 'P', 'S', 'S', 'S', 'P', 'S'],\n",
       " ['P', 'P', 'P', 'S', 'S', 'S', 'S', 'P'],\n",
       " ['P', 'P', 'P', 'S', 'S', 'S', 'S', 'S'],\n",
       " ['P', 'P', 'S', 'P', 'P', 'P', 'P', 'P'],\n",
       " ['P', 'P', 'S', 'P', 'P', 'P', 'P', 'S'],\n",
       " ['P', 'P', 'S', 'P', 'P', 'P', 'S', 'P'],\n",
       " ['P', 'P', 'S', 'P', 'P', 'P', 'S', 'S'],\n",
       " ['P', 'P', 'S', 'P', 'P', 'S', 'P', 'P'],\n",
       " ['P', 'P', 'S', 'P', 'P', 'S', 'P', 'S'],\n",
       " ['P', 'P', 'S', 'P', 'P', 'S', 'S', 'P'],\n",
       " ['P', 'P', 'S', 'P', 'P', 'S', 'S', 'S'],\n",
       " ['P', 'P', 'S', 'P', 'S', 'P', 'P', 'P'],\n",
       " ['P', 'P', 'S', 'P', 'S', 'P', 'P', 'S'],\n",
       " ['P', 'P', 'S', 'P', 'S', 'P', 'S', 'P'],\n",
       " ['P', 'P', 'S', 'P', 'S', 'P', 'S', 'S'],\n",
       " ['P', 'P', 'S', 'P', 'S', 'S', 'P', 'P'],\n",
       " ['P', 'P', 'S', 'P', 'S', 'S', 'P', 'S'],\n",
       " ['P', 'P', 'S', 'P', 'S', 'S', 'S', 'P'],\n",
       " ['P', 'P', 'S', 'P', 'S', 'S', 'S', 'S'],\n",
       " ['P', 'P', 'S', 'S', 'P', 'P', 'P', 'P'],\n",
       " ['P', 'P', 'S', 'S', 'P', 'P', 'P', 'S'],\n",
       " ['P', 'P', 'S', 'S', 'P', 'P', 'S', 'P'],\n",
       " ['P', 'P', 'S', 'S', 'P', 'P', 'S', 'S'],\n",
       " ['P', 'P', 'S', 'S', 'P', 'S', 'P', 'P'],\n",
       " ['P', 'P', 'S', 'S', 'P', 'S', 'P', 'S'],\n",
       " ['P', 'P', 'S', 'S', 'P', 'S', 'S', 'P'],\n",
       " ['P', 'P', 'S', 'S', 'P', 'S', 'S', 'S'],\n",
       " ['P', 'P', 'S', 'S', 'S', 'P', 'P', 'P'],\n",
       " ['P', 'P', 'S', 'S', 'S', 'P', 'P', 'S'],\n",
       " ['P', 'P', 'S', 'S', 'S', 'P', 'S', 'P'],\n",
       " ['P', 'P', 'S', 'S', 'S', 'P', 'S', 'S'],\n",
       " ['P', 'P', 'S', 'S', 'S', 'S', 'P', 'P'],\n",
       " ['P', 'P', 'S', 'S', 'S', 'S', 'P', 'S'],\n",
       " ['P', 'P', 'S', 'S', 'S', 'S', 'S', 'P'],\n",
       " ['P', 'P', 'S', 'S', 'S', 'S', 'S', 'S'],\n",
       " ['P', 'S', 'P', 'P', 'P', 'P', 'P', 'P'],\n",
       " ['P', 'S', 'P', 'P', 'P', 'P', 'P', 'S'],\n",
       " ['P', 'S', 'P', 'P', 'P', 'P', 'S', 'P'],\n",
       " ['P', 'S', 'P', 'P', 'P', 'P', 'S', 'S'],\n",
       " ['P', 'S', 'P', 'P', 'P', 'S', 'P', 'P'],\n",
       " ['P', 'S', 'P', 'P', 'P', 'S', 'P', 'S'],\n",
       " ['P', 'S', 'P', 'P', 'P', 'S', 'S', 'P'],\n",
       " ['P', 'S', 'P', 'P', 'P', 'S', 'S', 'S'],\n",
       " ['P', 'S', 'P', 'P', 'S', 'P', 'P', 'P'],\n",
       " ['P', 'S', 'P', 'P', 'S', 'P', 'P', 'S'],\n",
       " ['P', 'S', 'P', 'P', 'S', 'P', 'S', 'P'],\n",
       " ['P', 'S', 'P', 'P', 'S', 'P', 'S', 'S'],\n",
       " ['P', 'S', 'P', 'P', 'S', 'S', 'P', 'P'],\n",
       " ['P', 'S', 'P', 'P', 'S', 'S', 'P', 'S'],\n",
       " ['P', 'S', 'P', 'P', 'S', 'S', 'S', 'P'],\n",
       " ['P', 'S', 'P', 'P', 'S', 'S', 'S', 'S'],\n",
       " ['P', 'S', 'P', 'S', 'P', 'P', 'P', 'P'],\n",
       " ['P', 'S', 'P', 'S', 'P', 'P', 'P', 'S'],\n",
       " ['P', 'S', 'P', 'S', 'P', 'P', 'S', 'P'],\n",
       " ['P', 'S', 'P', 'S', 'P', 'P', 'S', 'S'],\n",
       " ['P', 'S', 'P', 'S', 'P', 'S', 'P', 'P'],\n",
       " ['P', 'S', 'P', 'S', 'P', 'S', 'P', 'S'],\n",
       " ['P', 'S', 'P', 'S', 'P', 'S', 'S', 'P'],\n",
       " ['P', 'S', 'P', 'S', 'P', 'S', 'S', 'S'],\n",
       " ['P', 'S', 'P', 'S', 'S', 'P', 'P', 'P'],\n",
       " ['P', 'S', 'P', 'S', 'S', 'P', 'P', 'S'],\n",
       " ['P', 'S', 'P', 'S', 'S', 'P', 'S', 'P'],\n",
       " ['P', 'S', 'P', 'S', 'S', 'P', 'S', 'S'],\n",
       " ['P', 'S', 'P', 'S', 'S', 'S', 'P', 'P'],\n",
       " ['P', 'S', 'P', 'S', 'S', 'S', 'P', 'S'],\n",
       " ['P', 'S', 'P', 'S', 'S', 'S', 'S', 'P'],\n",
       " ['P', 'S', 'P', 'S', 'S', 'S', 'S', 'S'],\n",
       " ['P', 'S', 'S', 'P', 'P', 'P', 'P', 'P'],\n",
       " ['P', 'S', 'S', 'P', 'P', 'P', 'P', 'S'],\n",
       " ['P', 'S', 'S', 'P', 'P', 'P', 'S', 'P'],\n",
       " ['P', 'S', 'S', 'P', 'P', 'P', 'S', 'S'],\n",
       " ['P', 'S', 'S', 'P', 'P', 'S', 'P', 'P'],\n",
       " ['P', 'S', 'S', 'P', 'P', 'S', 'P', 'S'],\n",
       " ['P', 'S', 'S', 'P', 'P', 'S', 'S', 'P'],\n",
       " ['P', 'S', 'S', 'P', 'P', 'S', 'S', 'S'],\n",
       " ['P', 'S', 'S', 'P', 'S', 'P', 'P', 'P'],\n",
       " ['P', 'S', 'S', 'P', 'S', 'P', 'P', 'S'],\n",
       " ['P', 'S', 'S', 'P', 'S', 'P', 'S', 'P'],\n",
       " ['P', 'S', 'S', 'P', 'S', 'P', 'S', 'S'],\n",
       " ['P', 'S', 'S', 'P', 'S', 'S', 'P', 'P'],\n",
       " ['P', 'S', 'S', 'P', 'S', 'S', 'P', 'S'],\n",
       " ['P', 'S', 'S', 'P', 'S', 'S', 'S', 'P'],\n",
       " ['P', 'S', 'S', 'P', 'S', 'S', 'S', 'S'],\n",
       " ['P', 'S', 'S', 'S', 'P', 'P', 'P', 'P'],\n",
       " ['P', 'S', 'S', 'S', 'P', 'P', 'P', 'S'],\n",
       " ['P', 'S', 'S', 'S', 'P', 'P', 'S', 'P'],\n",
       " ['P', 'S', 'S', 'S', 'P', 'P', 'S', 'S'],\n",
       " ['P', 'S', 'S', 'S', 'P', 'S', 'P', 'P'],\n",
       " ['P', 'S', 'S', 'S', 'P', 'S', 'P', 'S'],\n",
       " ['P', 'S', 'S', 'S', 'P', 'S', 'S', 'P'],\n",
       " ['P', 'S', 'S', 'S', 'P', 'S', 'S', 'S'],\n",
       " ['P', 'S', 'S', 'S', 'S', 'P', 'P', 'P'],\n",
       " ['P', 'S', 'S', 'S', 'S', 'P', 'P', 'S'],\n",
       " ['P', 'S', 'S', 'S', 'S', 'P', 'S', 'P'],\n",
       " ['P', 'S', 'S', 'S', 'S', 'P', 'S', 'S'],\n",
       " ['P', 'S', 'S', 'S', 'S', 'S', 'P', 'P'],\n",
       " ['P', 'S', 'S', 'S', 'S', 'S', 'P', 'S'],\n",
       " ['P', 'S', 'S', 'S', 'S', 'S', 'S', 'P'],\n",
       " ['P', 'S', 'S', 'S', 'S', 'S', 'S', 'S'],\n",
       " ['S', 'P', 'P', 'P', 'P', 'P', 'P', 'P'],\n",
       " ['S', 'P', 'P', 'P', 'P', 'P', 'P', 'S'],\n",
       " ['S', 'P', 'P', 'P', 'P', 'P', 'S', 'P'],\n",
       " ['S', 'P', 'P', 'P', 'P', 'P', 'S', 'S'],\n",
       " ['S', 'P', 'P', 'P', 'P', 'S', 'P', 'P'],\n",
       " ['S', 'P', 'P', 'P', 'P', 'S', 'P', 'S'],\n",
       " ['S', 'P', 'P', 'P', 'P', 'S', 'S', 'P'],\n",
       " ['S', 'P', 'P', 'P', 'P', 'S', 'S', 'S'],\n",
       " ['S', 'P', 'P', 'P', 'S', 'P', 'P', 'P'],\n",
       " ['S', 'P', 'P', 'P', 'S', 'P', 'P', 'S'],\n",
       " ['S', 'P', 'P', 'P', 'S', 'P', 'S', 'P'],\n",
       " ['S', 'P', 'P', 'P', 'S', 'P', 'S', 'S'],\n",
       " ['S', 'P', 'P', 'P', 'S', 'S', 'P', 'P'],\n",
       " ['S', 'P', 'P', 'P', 'S', 'S', 'P', 'S'],\n",
       " ['S', 'P', 'P', 'P', 'S', 'S', 'S', 'P'],\n",
       " ['S', 'P', 'P', 'P', 'S', 'S', 'S', 'S'],\n",
       " ['S', 'P', 'P', 'S', 'P', 'P', 'P', 'P'],\n",
       " ['S', 'P', 'P', 'S', 'P', 'P', 'P', 'S'],\n",
       " ['S', 'P', 'P', 'S', 'P', 'P', 'S', 'P'],\n",
       " ['S', 'P', 'P', 'S', 'P', 'P', 'S', 'S'],\n",
       " ['S', 'P', 'P', 'S', 'P', 'S', 'P', 'P'],\n",
       " ['S', 'P', 'P', 'S', 'P', 'S', 'P', 'S'],\n",
       " ['S', 'P', 'P', 'S', 'P', 'S', 'S', 'P'],\n",
       " ['S', 'P', 'P', 'S', 'P', 'S', 'S', 'S'],\n",
       " ['S', 'P', 'P', 'S', 'S', 'P', 'P', 'P'],\n",
       " ['S', 'P', 'P', 'S', 'S', 'P', 'P', 'S'],\n",
       " ['S', 'P', 'P', 'S', 'S', 'P', 'S', 'P'],\n",
       " ['S', 'P', 'P', 'S', 'S', 'P', 'S', 'S'],\n",
       " ['S', 'P', 'P', 'S', 'S', 'S', 'P', 'P'],\n",
       " ['S', 'P', 'P', 'S', 'S', 'S', 'P', 'S'],\n",
       " ['S', 'P', 'P', 'S', 'S', 'S', 'S', 'P'],\n",
       " ['S', 'P', 'P', 'S', 'S', 'S', 'S', 'S'],\n",
       " ['S', 'P', 'S', 'P', 'P', 'P', 'P', 'P'],\n",
       " ['S', 'P', 'S', 'P', 'P', 'P', 'P', 'S'],\n",
       " ['S', 'P', 'S', 'P', 'P', 'P', 'S', 'P'],\n",
       " ['S', 'P', 'S', 'P', 'P', 'P', 'S', 'S'],\n",
       " ['S', 'P', 'S', 'P', 'P', 'S', 'P', 'P'],\n",
       " ['S', 'P', 'S', 'P', 'P', 'S', 'P', 'S'],\n",
       " ['S', 'P', 'S', 'P', 'P', 'S', 'S', 'P'],\n",
       " ['S', 'P', 'S', 'P', 'P', 'S', 'S', 'S'],\n",
       " ['S', 'P', 'S', 'P', 'S', 'P', 'P', 'P'],\n",
       " ['S', 'P', 'S', 'P', 'S', 'P', 'P', 'S'],\n",
       " ['S', 'P', 'S', 'P', 'S', 'P', 'S', 'P'],\n",
       " ['S', 'P', 'S', 'P', 'S', 'P', 'S', 'S'],\n",
       " ['S', 'P', 'S', 'P', 'S', 'S', 'P', 'P'],\n",
       " ['S', 'P', 'S', 'P', 'S', 'S', 'P', 'S'],\n",
       " ['S', 'P', 'S', 'P', 'S', 'S', 'S', 'P'],\n",
       " ['S', 'P', 'S', 'P', 'S', 'S', 'S', 'S'],\n",
       " ['S', 'P', 'S', 'S', 'P', 'P', 'P', 'P'],\n",
       " ['S', 'P', 'S', 'S', 'P', 'P', 'P', 'S'],\n",
       " ['S', 'P', 'S', 'S', 'P', 'P', 'S', 'P'],\n",
       " ['S', 'P', 'S', 'S', 'P', 'P', 'S', 'S'],\n",
       " ['S', 'P', 'S', 'S', 'P', 'S', 'P', 'P'],\n",
       " ['S', 'P', 'S', 'S', 'P', 'S', 'P', 'S'],\n",
       " ['S', 'P', 'S', 'S', 'P', 'S', 'S', 'P'],\n",
       " ['S', 'P', 'S', 'S', 'P', 'S', 'S', 'S'],\n",
       " ['S', 'P', 'S', 'S', 'S', 'P', 'P', 'P'],\n",
       " ['S', 'P', 'S', 'S', 'S', 'P', 'P', 'S'],\n",
       " ['S', 'P', 'S', 'S', 'S', 'P', 'S', 'P'],\n",
       " ['S', 'P', 'S', 'S', 'S', 'P', 'S', 'S'],\n",
       " ['S', 'P', 'S', 'S', 'S', 'S', 'P', 'P'],\n",
       " ['S', 'P', 'S', 'S', 'S', 'S', 'P', 'S'],\n",
       " ['S', 'P', 'S', 'S', 'S', 'S', 'S', 'P'],\n",
       " ['S', 'P', 'S', 'S', 'S', 'S', 'S', 'S'],\n",
       " ['S', 'S', 'P', 'P', 'P', 'P', 'P', 'P'],\n",
       " ['S', 'S', 'P', 'P', 'P', 'P', 'P', 'S'],\n",
       " ['S', 'S', 'P', 'P', 'P', 'P', 'S', 'P'],\n",
       " ['S', 'S', 'P', 'P', 'P', 'P', 'S', 'S'],\n",
       " ['S', 'S', 'P', 'P', 'P', 'S', 'P', 'P'],\n",
       " ['S', 'S', 'P', 'P', 'P', 'S', 'P', 'S'],\n",
       " ['S', 'S', 'P', 'P', 'P', 'S', 'S', 'P'],\n",
       " ['S', 'S', 'P', 'P', 'P', 'S', 'S', 'S'],\n",
       " ['S', 'S', 'P', 'P', 'S', 'P', 'P', 'P'],\n",
       " ['S', 'S', 'P', 'P', 'S', 'P', 'P', 'S'],\n",
       " ['S', 'S', 'P', 'P', 'S', 'P', 'S', 'P'],\n",
       " ['S', 'S', 'P', 'P', 'S', 'P', 'S', 'S'],\n",
       " ['S', 'S', 'P', 'P', 'S', 'S', 'P', 'P'],\n",
       " ['S', 'S', 'P', 'P', 'S', 'S', 'P', 'S'],\n",
       " ['S', 'S', 'P', 'P', 'S', 'S', 'S', 'P'],\n",
       " ['S', 'S', 'P', 'P', 'S', 'S', 'S', 'S'],\n",
       " ['S', 'S', 'P', 'S', 'P', 'P', 'P', 'P'],\n",
       " ['S', 'S', 'P', 'S', 'P', 'P', 'P', 'S'],\n",
       " ['S', 'S', 'P', 'S', 'P', 'P', 'S', 'P'],\n",
       " ['S', 'S', 'P', 'S', 'P', 'P', 'S', 'S'],\n",
       " ['S', 'S', 'P', 'S', 'P', 'S', 'P', 'P'],\n",
       " ['S', 'S', 'P', 'S', 'P', 'S', 'P', 'S'],\n",
       " ['S', 'S', 'P', 'S', 'P', 'S', 'S', 'P'],\n",
       " ['S', 'S', 'P', 'S', 'P', 'S', 'S', 'S'],\n",
       " ['S', 'S', 'P', 'S', 'S', 'P', 'P', 'P'],\n",
       " ['S', 'S', 'P', 'S', 'S', 'P', 'P', 'S'],\n",
       " ['S', 'S', 'P', 'S', 'S', 'P', 'S', 'P'],\n",
       " ['S', 'S', 'P', 'S', 'S', 'P', 'S', 'S'],\n",
       " ['S', 'S', 'P', 'S', 'S', 'S', 'P', 'P'],\n",
       " ['S', 'S', 'P', 'S', 'S', 'S', 'P', 'S'],\n",
       " ['S', 'S', 'P', 'S', 'S', 'S', 'S', 'P'],\n",
       " ['S', 'S', 'P', 'S', 'S', 'S', 'S', 'S'],\n",
       " ['S', 'S', 'S', 'P', 'P', 'P', 'P', 'P'],\n",
       " ['S', 'S', 'S', 'P', 'P', 'P', 'P', 'S'],\n",
       " ['S', 'S', 'S', 'P', 'P', 'P', 'S', 'P'],\n",
       " ['S', 'S', 'S', 'P', 'P', 'P', 'S', 'S'],\n",
       " ['S', 'S', 'S', 'P', 'P', 'S', 'P', 'P'],\n",
       " ['S', 'S', 'S', 'P', 'P', 'S', 'P', 'S'],\n",
       " ['S', 'S', 'S', 'P', 'P', 'S', 'S', 'P'],\n",
       " ['S', 'S', 'S', 'P', 'P', 'S', 'S', 'S'],\n",
       " ['S', 'S', 'S', 'P', 'S', 'P', 'P', 'P'],\n",
       " ['S', 'S', 'S', 'P', 'S', 'P', 'P', 'S'],\n",
       " ['S', 'S', 'S', 'P', 'S', 'P', 'S', 'P'],\n",
       " ['S', 'S', 'S', 'P', 'S', 'P', 'S', 'S'],\n",
       " ['S', 'S', 'S', 'P', 'S', 'S', 'P', 'P'],\n",
       " ['S', 'S', 'S', 'P', 'S', 'S', 'P', 'S'],\n",
       " ['S', 'S', 'S', 'P', 'S', 'S', 'S', 'P'],\n",
       " ['S', 'S', 'S', 'P', 'S', 'S', 'S', 'S'],\n",
       " ['S', 'S', 'S', 'S', 'P', 'P', 'P', 'P'],\n",
       " ['S', 'S', 'S', 'S', 'P', 'P', 'P', 'S'],\n",
       " ['S', 'S', 'S', 'S', 'P', 'P', 'S', 'P'],\n",
       " ['S', 'S', 'S', 'S', 'P', 'P', 'S', 'S'],\n",
       " ['S', 'S', 'S', 'S', 'P', 'S', 'P', 'P'],\n",
       " ['S', 'S', 'S', 'S', 'P', 'S', 'P', 'S'],\n",
       " ['S', 'S', 'S', 'S', 'P', 'S', 'S', 'P'],\n",
       " ['S', 'S', 'S', 'S', 'P', 'S', 'S', 'S'],\n",
       " ['S', 'S', 'S', 'S', 'S', 'P', 'P', 'P'],\n",
       " ['S', 'S', 'S', 'S', 'S', 'P', 'P', 'S'],\n",
       " ['S', 'S', 'S', 'S', 'S', 'P', 'S', 'P'],\n",
       " ['S', 'S', 'S', 'S', 'S', 'P', 'S', 'S'],\n",
       " ['S', 'S', 'S', 'S', 'S', 'S', 'P', 'P'],\n",
       " ['S', 'S', 'S', 'S', 'S', 'S', 'P', 'S'],\n",
       " ['S', 'S', 'S', 'S', 'S', 'S', 'S', 'P'],\n",
       " ['S', 'S', 'S', 'S', 'S', 'S', 'S', 'S']]"
      ]
     },
     "execution_count": 15,
     "metadata": {},
     "output_type": "execute_result"
    }
   ],
   "source": [
    "import sympy as sp\n",
    "\n",
    "media_trail = [1, 2, 3, 4, 4, 3, 2, 1]\n",
    "interfaces = [0, 1, 2, 3, 4, 3, 2, 1, 0]\n",
    "medium_velocities = { 'P':[2.44, 5.38, 7.50, 9.8],\n",
    "                      'S':[1.71, 3.44, 5.6, 8.2] }\n",
    "\n",
    "x = sp.symbols('x')\n",
    "#interface_functions = [ 0*x, x*( (x/10)**2 - 1 ) - 5, -10*( (x/10)**2 + 1 ) ]\n",
    "\n",
    "interface_functions = [ 0*x, 1.0 + 0*x, 2 + 0*x, 7 + 0*x, 9 + 0*x ]\n",
    "\n",
    "myRay = Ray(media_trail, interfaces)\n",
    "mySurface = Surface(interface_functions, myRay, medium_velocities)\n",
    "\n",
    "mySurface.get_cases()"
   ]
  },
  {
   "cell_type": "code",
   "execution_count": 18,
   "metadata": {},
   "outputs": [
    {
     "data": {
      "text/plain": [
       "array([-2. , -0.5,  1. ,  2.5,  4. ,  5.5,  7. ,  8.5, 10. ])"
      ]
     },
     "execution_count": 18,
     "metadata": {},
     "output_type": "execute_result"
    }
   ],
   "source": [
    "xs, xr = -2, 10\n",
    "all_points = 9\n",
    "\n",
    "x_test = xs + np.arange(all_points) * ( xr - xs ) / ( all_points-1 )\n",
    "\n",
    "\n",
    "mySystem = SystemBuilder(x_test, mySurface)\n",
    "\n",
    "interest_cases = [['P', 'P', 'P', 'P', 'P', 'P', 'P', 'P'],\n",
    "                  ['S', 'S', 'S', 'S', 'S', 'S', 'S', 'S']]\n",
    "\n",
    "x_test"
   ]
  },
  {
   "cell_type": "code",
   "execution_count": 19,
   "metadata": {},
   "outputs": [
    {
     "ename": "LinAlgError",
     "evalue": "Singular matrix",
     "output_type": "error",
     "traceback": [
      "\u001b[1;31m---------------------------------------------------------------------------\u001b[0m",
      "\u001b[1;31mLinAlgError\u001b[0m                               Traceback (most recent call last)",
      "Cell \u001b[1;32mIn[19], line 1\u001b[0m\n\u001b[1;32m----> 1\u001b[0m sol \u001b[38;5;241m=\u001b[39m \u001b[43mmySystem\u001b[49m\u001b[38;5;241;43m.\u001b[39;49m\u001b[43mnewton_solve\u001b[49m\u001b[43m(\u001b[49m\u001b[43minterest_cases\u001b[49m\u001b[43m,\u001b[49m\u001b[43m \u001b[49m\u001b[43mtol\u001b[49m\u001b[38;5;241;43m=\u001b[39;49m\u001b[38;5;241;43m1e-3\u001b[39;49m\u001b[43m)\u001b[49m\n\u001b[0;32m      2\u001b[0m sol\n",
      "File \u001b[1;32mc:\\Users\\LEANDRO\\Documents\\Semestre_2024_1\\Computational_Seismic\\notebooks\\../source\\HomotopyConstructions.py:348\u001b[0m, in \u001b[0;36mSystemBuilder.newton_solve\u001b[1;34m(self, data_cases, tol, continuation)\u001b[0m\n\u001b[0;32m    346\u001b[0m     A_newton \u001b[38;5;241m=\u001b[39m \u001b[38;5;28mself\u001b[39m\u001b[38;5;241m.\u001b[39m_build_jacobian_matrix_A(current_X, next_case)\n\u001b[0;32m    347\u001b[0m     phi \u001b[38;5;241m=\u001b[39m \u001b[38;5;28mself\u001b[39m\u001b[38;5;241m.\u001b[39m_build_phi_array(current_X, next_case)\n\u001b[1;32m--> 348\u001b[0m     dxv \u001b[38;5;241m=\u001b[39m \u001b[43mnp\u001b[49m\u001b[38;5;241;43m.\u001b[39;49m\u001b[43mlinalg\u001b[49m\u001b[38;5;241;43m.\u001b[39;49m\u001b[43msolve\u001b[49m\u001b[43m(\u001b[49m\u001b[43m \u001b[49m\u001b[43mA_newton\u001b[49m\u001b[43m,\u001b[49m\u001b[43m \u001b[49m\u001b[38;5;241;43m-\u001b[39;49m\u001b[43mphi\u001b[49m\u001b[43m \u001b[49m\u001b[43m)\u001b[49m\n\u001b[0;32m    349\u001b[0m     X_sol[\u001b[38;5;241m1\u001b[39m:\u001b[38;5;241m-\u001b[39m\u001b[38;5;241m1\u001b[39m] \u001b[38;5;241m=\u001b[39m current_X[\u001b[38;5;241m1\u001b[39m:\u001b[38;5;241m-\u001b[39m\u001b[38;5;241m1\u001b[39m] \u001b[38;5;241m+\u001b[39m dxv\n\u001b[0;32m    351\u001b[0m \u001b[38;5;28;01mreturn\u001b[39;00m X_sol\n",
      "File \u001b[1;32m<__array_function__ internals>:180\u001b[0m, in \u001b[0;36msolve\u001b[1;34m(*args, **kwargs)\u001b[0m\n",
      "File \u001b[1;32mc:\\Users\\LEANDRO\\Programas\\Miniconda3\\envs\\sci310\\lib\\site-packages\\numpy\\linalg\\linalg.py:400\u001b[0m, in \u001b[0;36msolve\u001b[1;34m(a, b)\u001b[0m\n\u001b[0;32m    398\u001b[0m signature \u001b[38;5;241m=\u001b[39m \u001b[38;5;124m'\u001b[39m\u001b[38;5;124mDD->D\u001b[39m\u001b[38;5;124m'\u001b[39m \u001b[38;5;28;01mif\u001b[39;00m isComplexType(t) \u001b[38;5;28;01melse\u001b[39;00m \u001b[38;5;124m'\u001b[39m\u001b[38;5;124mdd->d\u001b[39m\u001b[38;5;124m'\u001b[39m\n\u001b[0;32m    399\u001b[0m extobj \u001b[38;5;241m=\u001b[39m get_linalg_error_extobj(_raise_linalgerror_singular)\n\u001b[1;32m--> 400\u001b[0m r \u001b[38;5;241m=\u001b[39m \u001b[43mgufunc\u001b[49m\u001b[43m(\u001b[49m\u001b[43ma\u001b[49m\u001b[43m,\u001b[49m\u001b[43m \u001b[49m\u001b[43mb\u001b[49m\u001b[43m,\u001b[49m\u001b[43m \u001b[49m\u001b[43msignature\u001b[49m\u001b[38;5;241;43m=\u001b[39;49m\u001b[43msignature\u001b[49m\u001b[43m,\u001b[49m\u001b[43m \u001b[49m\u001b[43mextobj\u001b[49m\u001b[38;5;241;43m=\u001b[39;49m\u001b[43mextobj\u001b[49m\u001b[43m)\u001b[49m\n\u001b[0;32m    402\u001b[0m \u001b[38;5;28;01mreturn\u001b[39;00m wrap(r\u001b[38;5;241m.\u001b[39mastype(result_t, copy\u001b[38;5;241m=\u001b[39m\u001b[38;5;28;01mFalse\u001b[39;00m))\n",
      "File \u001b[1;32mc:\\Users\\LEANDRO\\Programas\\Miniconda3\\envs\\sci310\\lib\\site-packages\\numpy\\linalg\\linalg.py:89\u001b[0m, in \u001b[0;36m_raise_linalgerror_singular\u001b[1;34m(err, flag)\u001b[0m\n\u001b[0;32m     88\u001b[0m \u001b[38;5;28;01mdef\u001b[39;00m \u001b[38;5;21m_raise_linalgerror_singular\u001b[39m(err, flag):\n\u001b[1;32m---> 89\u001b[0m     \u001b[38;5;28;01mraise\u001b[39;00m LinAlgError(\u001b[38;5;124m\"\u001b[39m\u001b[38;5;124mSingular matrix\u001b[39m\u001b[38;5;124m\"\u001b[39m)\n",
      "\u001b[1;31mLinAlgError\u001b[0m: Singular matrix"
     ]
    }
   ],
   "source": [
    "sol = mySystem.newton_solve(interest_cases, tol=1e-3)\n",
    "sol"
   ]
  },
  {
   "cell_type": "code",
   "execution_count": 37,
   "metadata": {},
   "outputs": [],
   "source": [
    "y = np.array([0, 1, 2, 7, 9, 7, 2, 1, 0])"
   ]
  },
  {
   "cell_type": "code",
   "execution_count": 34,
   "metadata": {},
   "outputs": [],
   "source": [
    "import matplotlib.pyplot as plt"
   ]
  },
  {
   "cell_type": "code",
   "execution_count": 38,
   "metadata": {},
   "outputs": [
    {
     "data": {
      "text/plain": [
       "[<matplotlib.lines.Line2D at 0x1fb62ed3430>]"
      ]
     },
     "execution_count": 38,
     "metadata": {},
     "output_type": "execute_result"
    },
    {
     "data": {
      "image/png": "[encoded data removed]",
      "text/plain": [
       "<Figure size 640x480 with 1 Axes>"
      ]
     },
     "metadata": {},
     "output_type": "display_data"
    }
   ],
   "source": [
    "plt.plot(sol, -y)"
   ]
  },
  {
   "cell_type": "code",
   "execution_count": 25,
   "metadata": {},
   "outputs": [
    {
     "data": {
      "text/plain": [
       "62.33750738507018"
      ]
     },
     "execution_count": 25,
     "metadata": {},
     "output_type": "execute_result"
    }
   ],
   "source": [
    "sol[1] - sol[0]"
   ]
  },
  {
   "cell_type": "code",
   "execution_count": 26,
   "metadata": {},
   "outputs": [
    {
     "data": {
      "text/plain": [
       "62.33750738507038"
      ]
     },
     "execution_count": 26,
     "metadata": {},
     "output_type": "execute_result"
    }
   ],
   "source": [
    "sol[-1] - sol[-2]"
   ]
  }
 ],
 "metadata": {
  "kernelspec": {
   "display_name": "sci310",
   "language": "python",
   "name": "python3"
  },
  "language_info": {
   "codemirror_mode": {
    "name": "ipython",
    "version": 3
   },
   "file_extension": ".py",
   "mimetype": "text/x-python",
   "name": "python",
   "nbconvert_exporter": "python",
   "pygments_lexer": "ipython3",
   "version": "3.10.0"
  }
 },
 "nbformat": 4,
 "nbformat_minor": 2
}
